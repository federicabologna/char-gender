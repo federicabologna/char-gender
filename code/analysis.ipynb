{
 "cells": [
  {
   "cell_type": "markdown",
   "metadata": {
    "id": "aPn5tGl5Yvo4"
   },
   "source": [
    "# Estimating causal effects"
   ]
  },
  {
   "cell_type": "code",
   "execution_count": 1,
   "metadata": {
    "executionInfo": {
     "elapsed": 1782,
     "status": "ok",
     "timestamp": 1761515079826,
     "user": {
      "displayName": "Federica Bologna",
      "userId": "16530074403271623482"
     },
     "user_tz": 240
    },
    "id": "srjLYpwJZKK2"
   },
   "outputs": [],
   "source": [
    "import os\n",
    "import pandas as pd\n",
    "import numpy as np\n",
    "from scipy import stats\n",
    "import matplotlib.pyplot as plt\n",
    "import matplotlib as mpl\n",
    "import seaborn as sns"
   ]
  },
  {
   "cell_type": "code",
   "execution_count": 2,
   "metadata": {
    "colab": {
     "base_uri": "https://localhost:8080/"
    },
    "executionInfo": {
     "elapsed": 585,
     "status": "ok",
     "timestamp": 1761515080413,
     "user": {
      "displayName": "Federica Bologna",
      "userId": "16530074403271623482"
     },
     "user_tz": 240
    },
    "id": "rdjDiJwDY5K1",
    "outputId": "b31f458a-a38f-4fff-fad6-2263605494fa"
   },
   "outputs": [],
   "source": [
    "# from google.colab import drive\n",
    "# drive.mount('/content/drive')"
   ]
  },
  {
   "cell_type": "code",
   "execution_count": 3,
   "metadata": {
    "executionInfo": {
     "elapsed": 1,
     "status": "ok",
     "timestamp": 1761515080415,
     "user": {
      "displayName": "Federica Bologna",
      "userId": "16530074403271623482"
     },
     "user_tz": 240
    },
    "id": "w0AdnbgkY1Q-"
   },
   "outputs": [],
   "source": [
    "# data_dir = '/content/drive/MyDrive/char_gender/data/'\n",
    "data_dir = '../data/'\n",
    "if not os.path.exists(data_dir):\n",
    "    os.makedirs(data_dir)\n",
    "fig_dir = '../figures/'\n",
    "if not os.path.exists(fig_dir):\n",
    "    os.makedirs(fig_dir)"
   ]
  },
  {
   "cell_type": "code",
   "execution_count": 4,
   "metadata": {
    "colab": {
     "base_uri": "https://localhost:8080/",
     "height": 859
    },
    "executionInfo": {
     "elapsed": 139,
     "status": "ok",
     "timestamp": 1761515080561,
     "user": {
      "displayName": "Federica Bologna",
      "userId": "16530074403271623482"
     },
     "user_tz": 240
    },
    "id": "ZofPzlicY9j5",
    "outputId": "f424cd00-c05c-41d1-ba24-d57625773d6f"
   },
   "outputs": [
    {
     "data": {
      "text/html": [
       "<div>\n",
       "<style scoped>\n",
       "    .dataframe tbody tr th:only-of-type {\n",
       "        vertical-align: middle;\n",
       "    }\n",
       "\n",
       "    .dataframe tbody tr th {\n",
       "        vertical-align: top;\n",
       "    }\n",
       "\n",
       "    .dataframe thead th {\n",
       "        text-align: right;\n",
       "    }\n",
       "</style>\n",
       "<table border=\"1\" class=\"dataframe\">\n",
       "  <thead>\n",
       "    <tr style=\"text-align: right;\">\n",
       "      <th></th>\n",
       "      <th>Response ID</th>\n",
       "      <th>If you agree to these conditions, please click \"I consent to participate\" below. If you do not agree, click the “I do not consent to participate” option.\\n\\nBy agreeing to participate, you confirm that you are over 18 years of age.\\n\\n \\n\\nI have read the above information.</th>\n",
       "      <th>In Novel A, how long is the trail that Sam takes?</th>\n",
       "      <th>In Novel A, what plant does Sam rest against?</th>\n",
       "      <th>In Novel B, when does Alex go to the cafe?</th>\n",
       "      <th>In Novel B, what is the material of the chair Alex sketches?</th>\n",
       "      <th>chosen_story</th>\n",
       "      <th>Your opinion is fundamental to understand reader preferences. Please take your time to answer this question.\\n\\nIn your own words, briefly share your motivation for your choice (minimum 200 characters, or about 40 words).</th>\n",
       "      <th>Your age:</th>\n",
       "      <th>gender</th>\n",
       "      <th>...</th>\n",
       "      <th>How would you describe your political views?</th>\n",
       "      <th>In Novel A, when does Alex go to the cafe?</th>\n",
       "      <th>In Novel A, what is the material of the chair Alex sketches?</th>\n",
       "      <th>In Novel B, how long is the trail that Sam takes?</th>\n",
       "      <th>In Novel B, what plant does Sam rest against?</th>\n",
       "      <th>first_gender</th>\n",
       "      <th>first_story</th>\n",
       "      <th>Treatment A</th>\n",
       "      <th>chose_hike</th>\n",
       "      <th>respondent_woman</th>\n",
       "    </tr>\n",
       "  </thead>\n",
       "  <tbody>\n",
       "    <tr>\n",
       "      <th>0</th>\n",
       "      <td>R_7rxJeX0686uzPHi</td>\n",
       "      <td>I consent to participate.</td>\n",
       "      <td>6 miles</td>\n",
       "      <td>Juniper tree</td>\n",
       "      <td>Morning</td>\n",
       "      <td>Wood</td>\n",
       "      <td>Novel A</td>\n",
       "      <td>Novel A has more information about a potential...</td>\n",
       "      <td>25-35</td>\n",
       "      <td>Man</td>\n",
       "      <td>...</td>\n",
       "      <td>Moderate</td>\n",
       "      <td>NaN</td>\n",
       "      <td>NaN</td>\n",
       "      <td>NaN</td>\n",
       "      <td>NaN</td>\n",
       "      <td>W</td>\n",
       "      <td>Hike</td>\n",
       "      <td>Hike</td>\n",
       "      <td>1</td>\n",
       "      <td>0</td>\n",
       "    </tr>\n",
       "    <tr>\n",
       "      <th>1</th>\n",
       "      <td>R_1Mng04p43Zl3xvb</td>\n",
       "      <td>I consent to participate.</td>\n",
       "      <td>NaN</td>\n",
       "      <td>NaN</td>\n",
       "      <td>NaN</td>\n",
       "      <td>NaN</td>\n",
       "      <td>Novel B</td>\n",
       "      <td>Novel B drew me in with the suspense of exactl...</td>\n",
       "      <td>36-45</td>\n",
       "      <td>Man</td>\n",
       "      <td>...</td>\n",
       "      <td>Moderate</td>\n",
       "      <td>Morning</td>\n",
       "      <td>Wood</td>\n",
       "      <td>6 miles</td>\n",
       "      <td>Juniper tree</td>\n",
       "      <td>M</td>\n",
       "      <td>Coffee</td>\n",
       "      <td>Hike</td>\n",
       "      <td>1</td>\n",
       "      <td>0</td>\n",
       "    </tr>\n",
       "    <tr>\n",
       "      <th>2</th>\n",
       "      <td>R_1IHhRxaGPtHjhQ2</td>\n",
       "      <td>I consent to participate.</td>\n",
       "      <td>6 miles</td>\n",
       "      <td>Juniper tree</td>\n",
       "      <td>Morning</td>\n",
       "      <td>Wood</td>\n",
       "      <td>Novel A</td>\n",
       "      <td>I prefer to read novel A because it was easier...</td>\n",
       "      <td>25-35</td>\n",
       "      <td>Woman</td>\n",
       "      <td>...</td>\n",
       "      <td>Very liberal</td>\n",
       "      <td>NaN</td>\n",
       "      <td>NaN</td>\n",
       "      <td>NaN</td>\n",
       "      <td>NaN</td>\n",
       "      <td>W</td>\n",
       "      <td>Hike</td>\n",
       "      <td>Hike</td>\n",
       "      <td>1</td>\n",
       "      <td>1</td>\n",
       "    </tr>\n",
       "    <tr>\n",
       "      <th>3</th>\n",
       "      <td>R_1oFSEE8V2SpwrhD</td>\n",
       "      <td>I consent to participate.</td>\n",
       "      <td>6 miles</td>\n",
       "      <td>Juniper tree</td>\n",
       "      <td>Morning</td>\n",
       "      <td>Wood</td>\n",
       "      <td>Novel B</td>\n",
       "      <td>I'm also interested in art and enjoy a main ch...</td>\n",
       "      <td>18-24</td>\n",
       "      <td>Woman</td>\n",
       "      <td>...</td>\n",
       "      <td>Moderate</td>\n",
       "      <td>NaN</td>\n",
       "      <td>NaN</td>\n",
       "      <td>NaN</td>\n",
       "      <td>NaN</td>\n",
       "      <td>W</td>\n",
       "      <td>Hike</td>\n",
       "      <td>Hike</td>\n",
       "      <td>0</td>\n",
       "      <td>1</td>\n",
       "    </tr>\n",
       "    <tr>\n",
       "      <th>4</th>\n",
       "      <td>R_1jVUjK5fbarEH9T</td>\n",
       "      <td>I consent to participate.</td>\n",
       "      <td>6 miles</td>\n",
       "      <td>Juniper tree</td>\n",
       "      <td>Morning</td>\n",
       "      <td>Wood</td>\n",
       "      <td>Novel A</td>\n",
       "      <td>My curiosity about the contents of the note/le...</td>\n",
       "      <td>36-45</td>\n",
       "      <td>Woman</td>\n",
       "      <td>...</td>\n",
       "      <td>Liberal</td>\n",
       "      <td>NaN</td>\n",
       "      <td>NaN</td>\n",
       "      <td>NaN</td>\n",
       "      <td>NaN</td>\n",
       "      <td>W</td>\n",
       "      <td>Hike</td>\n",
       "      <td>Hike</td>\n",
       "      <td>1</td>\n",
       "      <td>1</td>\n",
       "    </tr>\n",
       "  </tbody>\n",
       "</table>\n",
       "<p>5 rows × 25 columns</p>\n",
       "</div>"
      ],
      "text/plain": [
       "         Response ID  \\\n",
       "0  R_7rxJeX0686uzPHi   \n",
       "1  R_1Mng04p43Zl3xvb   \n",
       "2  R_1IHhRxaGPtHjhQ2   \n",
       "3  R_1oFSEE8V2SpwrhD   \n",
       "4  R_1jVUjK5fbarEH9T   \n",
       "\n",
       "  If you agree to these conditions, please click \"I consent to participate\" below. If you do not agree, click the “I do not consent to participate” option.\\n\\nBy agreeing to participate, you confirm that you are over 18 years of age.\\n\\n \\n\\nI have read the above information.  \\\n",
       "0                          I consent to participate.                                                                                                                                                                                                                                   \n",
       "1                          I consent to participate.                                                                                                                                                                                                                                   \n",
       "2                          I consent to participate.                                                                                                                                                                                                                                   \n",
       "3                          I consent to participate.                                                                                                                                                                                                                                   \n",
       "4                          I consent to participate.                                                                                                                                                                                                                                   \n",
       "\n",
       "  In Novel A, how long is the trail that Sam takes?  \\\n",
       "0                                           6 miles   \n",
       "1                                               NaN   \n",
       "2                                           6 miles   \n",
       "3                                           6 miles   \n",
       "4                                           6 miles   \n",
       "\n",
       "  In Novel A, what plant does Sam rest against?  \\\n",
       "0                                  Juniper tree   \n",
       "1                                           NaN   \n",
       "2                                  Juniper tree   \n",
       "3                                  Juniper tree   \n",
       "4                                  Juniper tree   \n",
       "\n",
       "  In Novel B, when does Alex go to the cafe?  \\\n",
       "0                                    Morning   \n",
       "1                                        NaN   \n",
       "2                                    Morning   \n",
       "3                                    Morning   \n",
       "4                                    Morning   \n",
       "\n",
       "  In Novel B, what is the material of the chair Alex sketches? chosen_story  \\\n",
       "0                                               Wood                Novel A   \n",
       "1                                                NaN                Novel B   \n",
       "2                                               Wood                Novel A   \n",
       "3                                               Wood                Novel B   \n",
       "4                                               Wood                Novel A   \n",
       "\n",
       "  Your opinion is fundamental to understand reader preferences. Please take your time to answer this question.\\n\\nIn your own words, briefly share your motivation for your choice (minimum 200 characters, or about 40 words).  \\\n",
       "0  Novel A has more information about a potential...                                                                                                                                                                              \n",
       "1  Novel B drew me in with the suspense of exactl...                                                                                                                                                                              \n",
       "2  I prefer to read novel A because it was easier...                                                                                                                                                                              \n",
       "3  I'm also interested in art and enjoy a main ch...                                                                                                                                                                              \n",
       "4  My curiosity about the contents of the note/le...                                                                                                                                                                              \n",
       "\n",
       "  Your age: gender  ...  How would you describe your political views?  \\\n",
       "0     25-35    Man  ...                                      Moderate   \n",
       "1     36-45    Man  ...                                      Moderate   \n",
       "2     25-35  Woman  ...                                  Very liberal   \n",
       "3     18-24  Woman  ...                                      Moderate   \n",
       "4     36-45  Woman  ...                                       Liberal   \n",
       "\n",
       "  In Novel A, when does Alex go to the cafe?  \\\n",
       "0                                        NaN   \n",
       "1                                    Morning   \n",
       "2                                        NaN   \n",
       "3                                        NaN   \n",
       "4                                        NaN   \n",
       "\n",
       "  In Novel A, what is the material of the chair Alex sketches?  \\\n",
       "0                                                NaN             \n",
       "1                                               Wood             \n",
       "2                                                NaN             \n",
       "3                                                NaN             \n",
       "4                                                NaN             \n",
       "\n",
       "  In Novel B, how long is the trail that Sam takes?  \\\n",
       "0                                               NaN   \n",
       "1                                           6 miles   \n",
       "2                                               NaN   \n",
       "3                                               NaN   \n",
       "4                                               NaN   \n",
       "\n",
       "  In Novel B, what plant does Sam rest against? first_gender first_story  \\\n",
       "0                                           NaN            W        Hike   \n",
       "1                                  Juniper tree            M      Coffee   \n",
       "2                                           NaN            W        Hike   \n",
       "3                                           NaN            W        Hike   \n",
       "4                                           NaN            W        Hike   \n",
       "\n",
       "  Treatment A chose_hike respondent_woman  \n",
       "0        Hike          1                0  \n",
       "1        Hike          1                0  \n",
       "2        Hike          1                1  \n",
       "3        Hike          0                1  \n",
       "4        Hike          1                1  \n",
       "\n",
       "[5 rows x 25 columns]"
      ]
     },
     "execution_count": 4,
     "metadata": {},
     "output_type": "execute_result"
    }
   ],
   "source": [
    "public = pd.read_csv(os.path.join(data_dir, 'public_data.csv'))\n",
    "public.head()"
   ]
  },
  {
   "cell_type": "code",
   "execution_count": 5,
   "metadata": {
    "colab": {
     "base_uri": "https://localhost:8080/",
     "height": 470
    },
    "executionInfo": {
     "elapsed": 551,
     "status": "ok",
     "timestamp": 1761515081113,
     "user": {
      "displayName": "Federica Bologna",
      "userId": "16530074403271623482"
     },
     "user_tz": 240
    },
    "id": "dwe1pNNbZHMp",
    "outputId": "f66a379e-938a-43e2-d1f1-1c5169c3a9f5"
   },
   "outputs": [
    {
     "data": {
      "image/png": "[encoded data removed]",
      "text/plain": [
       "<Figure size 500x500 with 1 Axes>"
      ]
     },
     "metadata": {},
     "output_type": "display_data"
    }
   ],
   "source": [
    "plt.figure(figsize=(5, 5))\n",
    "ax = sns.barplot(public, x=\"gender\", y=\"chose_hike\", order=['Woman', 'Man'], hue='Treatment A', errorbar=('ci', 95))\n",
    "ax.set_ylim(0.5, 1)\n",
    "ax.grid(color='grey', axis='y', linestyle='-', linewidth=0.25, alpha=0.5)\n",
    "ax.spines['top'].set_visible(False)\n",
    "ax.spines['right'].set_visible(False)\n",
    "\n",
    "handles, labels = ax.get_legend_handles_labels()\n",
    "ax.legend(handles=handles, labels=['woman protagonist',\n",
    "                                   'man protagonist'], title='Treatment: Hike Story has a')\n",
    "\n",
    "for p in ax.patches:\n",
    "  height = p.get_height()\n",
    "  if height > 0.5:\n",
    "    ax.text(p.get_x() + p.get_width() / 2., 0.52, f'{int(round(height, 2) * 100)}%', ha='center', va='center', color='white', fontsize=10) #fontsize = 20\n",
    "\n",
    "\n",
    "plt.xlabel('Respondent Gender')\n",
    "plt.ylabel('Probability of Choosing Hike Story')#(r' $\\hat{\\pi}$ ', rotation=0)\n",
    "plt.savefig(os.path.join(fig_dir, f'pihats.png'), dpi = 300)\n",
    "plt.show()"
   ]
  },
  {
   "cell_type": "code",
   "execution_count": 6,
   "metadata": {
    "executionInfo": {
     "elapsed": 1,
     "status": "ok",
     "timestamp": 1761515081115,
     "user": {
      "displayName": "Federica Bologna",
      "userId": "16530074403271623482"
     },
     "user_tz": 240
    },
    "id": "3gtbOG2sX3nN"
   },
   "outputs": [],
   "source": [
    "dicts = []\n",
    "for gender in ['Woman', 'Man']:\n",
    "\n",
    "  # print(gender.upper())\n",
    "  subgroup = public[public['gender'] == gender].copy()\n",
    "  pihat1 = np.mean(subgroup[subgroup['Treatment A'] == 'Hike']['chose_hike'])\n",
    "  pivar1 = pihat1 * (1 - pihat1)/len(subgroup[subgroup['Treatment A'] == 'Hike'])\n",
    "\n",
    "  pihat0 = np.mean(subgroup[subgroup['Treatment A'] == 'Other']['chose_hike'])\n",
    "  pivar0 = pihat0 * (1 - pihat0)/len(subgroup[subgroup['Treatment A'] == 'Other'])\n",
    "\n",
    "  effect = pihat1-pihat0\n",
    "  effect_var = pivar1+pivar0\n",
    "  effect_se = np.sqrt(effect_var)\n",
    "\n",
    "  cimin = effect - stats.norm.ppf(.975)*effect_se\n",
    "  cimax = effect + stats.norm.ppf(.975)*effect_se\n",
    "  d = {'Respondent Gender': gender,\n",
    "       'effect': effect,\n",
    "       'cimin': cimin,\n",
    "       'cimax': cimax}\n",
    "  dicts.append(d)\n",
    "\n",
    "  # print(f'pi hat1 {pi_hat1}', f'pi hat0 {pi_hat0}', f'pi hat {pi_hat}')\n",
    "#print(f'Average treatment effect: {np.average(effects, weights=weights)}')"
   ]
  },
  {
   "cell_type": "code",
   "execution_count": 7,
   "metadata": {
    "colab": {
     "base_uri": "https://localhost:8080/",
     "height": 125
    },
    "executionInfo": {
     "elapsed": 9,
     "status": "ok",
     "timestamp": 1761515081135,
     "user": {
      "displayName": "Federica Bologna",
      "userId": "16530074403271623482"
     },
     "user_tz": 240
    },
    "id": "0fXY2pLtZ-pI",
    "outputId": "3abe1975-470d-4703-bf99-5a427da79011"
   },
   "outputs": [
    {
     "data": {
      "text/html": [
       "<div>\n",
       "<style scoped>\n",
       "    .dataframe tbody tr th:only-of-type {\n",
       "        vertical-align: middle;\n",
       "    }\n",
       "\n",
       "    .dataframe tbody tr th {\n",
       "        vertical-align: top;\n",
       "    }\n",
       "\n",
       "    .dataframe thead th {\n",
       "        text-align: right;\n",
       "    }\n",
       "</style>\n",
       "<table border=\"1\" class=\"dataframe\">\n",
       "  <thead>\n",
       "    <tr style=\"text-align: right;\">\n",
       "      <th></th>\n",
       "      <th>Respondent Gender</th>\n",
       "      <th>effect</th>\n",
       "      <th>cimin</th>\n",
       "      <th>cimax</th>\n",
       "    </tr>\n",
       "  </thead>\n",
       "  <tbody>\n",
       "    <tr>\n",
       "      <th>0</th>\n",
       "      <td>Woman</td>\n",
       "      <td>0.061584</td>\n",
       "      <td>0.016927</td>\n",
       "      <td>0.106240</td>\n",
       "    </tr>\n",
       "    <tr>\n",
       "      <th>1</th>\n",
       "      <td>Man</td>\n",
       "      <td>0.007931</td>\n",
       "      <td>-0.035845</td>\n",
       "      <td>0.051707</td>\n",
       "    </tr>\n",
       "  </tbody>\n",
       "</table>\n",
       "</div>"
      ],
      "text/plain": [
       "  Respondent Gender    effect     cimin     cimax\n",
       "0             Woman  0.061584  0.016927  0.106240\n",
       "1               Man  0.007931 -0.035845  0.051707"
      ]
     },
     "execution_count": 7,
     "metadata": {},
     "output_type": "execute_result"
    }
   ],
   "source": [
    "df = pd.DataFrame(dicts)\n",
    "df"
   ]
  },
  {
   "cell_type": "code",
   "execution_count": 8,
   "metadata": {
    "colab": {
     "base_uri": "https://localhost:8080/"
    },
    "executionInfo": {
     "elapsed": 3,
     "status": "ok",
     "timestamp": 1761515081145,
     "user": {
      "displayName": "Federica Bologna",
      "userId": "16530074403271623482"
     },
     "user_tz": 240
    },
    "id": "jr61eiAcaJbL",
    "outputId": "b96b240f-b512-40a8-e391-0734784a1720"
   },
   "outputs": [
    {
     "data": {
      "text/plain": [
       "array([0.06158358, 0.0079309 ])"
      ]
     },
     "execution_count": 8,
     "metadata": {},
     "output_type": "execute_result"
    }
   ],
   "source": [
    "df['effect'].values"
   ]
  },
  {
   "cell_type": "code",
   "execution_count": 9,
   "metadata": {
    "colab": {
     "base_uri": "https://localhost:8080/",
     "height": 379
    },
    "executionInfo": {
     "elapsed": 129,
     "status": "ok",
     "timestamp": 1761515081301,
     "user": {
      "displayName": "Federica Bologna",
      "userId": "16530074403271623482"
     },
     "user_tz": 240
    },
    "id": "ExoOeigsaM4s",
    "outputId": "5c93d775-2091-409e-e0dd-1d8c7b24a82e"
   },
   "outputs": [
    {
     "data": {
      "image/png": "[encoded data removed]",
      "text/plain": [
       "<Figure size 300x300 with 1 Axes>"
      ]
     },
     "metadata": {},
     "output_type": "display_data"
    }
   ],
   "source": [
    "plt.figure(figsize=(3, 3))\n",
    "plt.xlim(0,2)\n",
    "plt.ylim(-0.1, 0.1)\n",
    "plt.grid(color='grey', axis='y', linestyle='-', linewidth=0.25, alpha=0.5)\n",
    "for pos in ['top', 'right']:\n",
    "    plt.gca().spines[pos].set_visible(False)\n",
    "\n",
    "asymmetric_errors = []\n",
    "for index, row in df.iterrows():\n",
    "  asymmetric_errors.append([row['effect'] - row['cimin'], row['cimax'] - row['effect']])\n",
    "plt.errorbar([0.5,1.5], df['effect'].values, yerr=asymmetric_errors, color='black', fmt='o')\n",
    "\n",
    "for x, y in zip([0.6, 1.6], df['effect'].values):\n",
    "  plt.text(x+0.01, y, f'{round(y, 3)}%', ha='left', va='bottom', fontsize=10, color='black')\n",
    "\n",
    "plt.xticks([0.5, 1.5], labels=['Woman', 'Man'])\n",
    "plt.yticks(np.arange(-0.1, 0.11, step=0.05))\n",
    "for y in np.arange(-0.1, 0.11, step=0.025):\n",
    "    plt.axhline(y=y, color='grey', linestyle='-', linewidth=0.25, alpha=0.2)\n",
    "\n",
    "plt.axhline(y=0, color='black', linestyle='-', linewidth=0.5)\n",
    "\n",
    "plt.xlabel('Respondent Gender', labelpad = 8)\n",
    "plt.ylabel('Effect of Protagonist Gender\\n(Woman - Man)\\non Reader Preferences')\n",
    "plt.title('Conditional Average\\nTreatment Effect', pad=20)\n",
    "plt.savefig(os.path.join(fig_dir, f'cate.png'), dpi = 300, bbox_inches = \"tight\")\n",
    "plt.show()"
   ]
  },
  {
   "cell_type": "markdown",
   "metadata": {
    "id": "-RP6pX5KXeu_"
   },
   "source": [
    "## Bootstrapping"
   ]
  },
  {
   "cell_type": "code",
   "execution_count": 10,
   "metadata": {
    "executionInfo": {
     "elapsed": 8252,
     "status": "ok",
     "timestamp": 1761515089552,
     "user": {
      "displayName": "Federica Bologna",
      "userId": "16530074403271623482"
     },
     "user_tz": 240
    },
    "id": "19WeyMRDsTC8"
   },
   "outputs": [],
   "source": [
    "# Bootstrap calculations\n",
    "trials = 1000\n",
    "\n",
    "bootstrapped_ate = []\n",
    "bootstrapped_pihat = {'Woman': [],\n",
    "                      'Man': []}\n",
    "\n",
    "for i in range(trials):\n",
    "\n",
    "  effects = []\n",
    "  weights = []\n",
    "\n",
    "  for gender in ['Woman', 'Man']:\n",
    "\n",
    "    subgroup = public[public['gender'] == gender].copy()\n",
    "\n",
    "    A1 = subgroup[subgroup['Treatment A'] == 'Hike']\n",
    "    k = len(A1)\n",
    "    A1_sample = A1.sample(n=k, replace=True)\n",
    "\n",
    "    A2 = subgroup[subgroup['Treatment A'] == 'Other']\n",
    "    k = len(A2)\n",
    "    A2_sample = A2.sample(n=k, replace=True)\n",
    "\n",
    "    pi_hat1 =  np.mean(A1_sample['chose_hike'])\n",
    "    pi_hat0 =  np.mean(A2_sample['chose_hike'])\n",
    "    pi_hat = pi_hat1-pi_hat0\n",
    "\n",
    "    bootstrapped_pihat[gender].append(pi_hat)\n",
    "    effects.append(pi_hat)\n",
    "    weights.append(len(subgroup))\n",
    "\n",
    "  average_effect = np.average(effects, weights=weights)\n",
    "  bootstrapped_ate.append(average_effect)"
   ]
  },
  {
   "cell_type": "code",
   "execution_count": 11,
   "metadata": {
    "executionInfo": {
     "elapsed": 51,
     "status": "ok",
     "timestamp": 1761515089604,
     "user": {
      "displayName": "Federica Bologna",
      "userId": "16530074403271623482"
     },
     "user_tz": 240
    },
    "id": "GuGZN_qTwOy4"
   },
   "outputs": [],
   "source": [
    "def calculate_CI(bootstrapped):\n",
    "\n",
    "  sort = sorted(bootstrapped)\n",
    "  low = round(float(sort[int(trials*0.025)]), 5)\n",
    "  high = round(float(sort[int(trials*0.975)]), 5)\n",
    "\n",
    "  return low, high"
   ]
  },
  {
   "cell_type": "code",
   "execution_count": 12,
   "metadata": {
    "colab": {
     "base_uri": "https://localhost:8080/"
    },
    "executionInfo": {
     "elapsed": 5,
     "status": "ok",
     "timestamp": 1761515089605,
     "user": {
      "displayName": "Federica Bologna",
      "userId": "16530074403271623482"
     },
     "user_tz": 240
    },
    "id": "qNa4IrDqx-65",
    "outputId": "1d105629-9664-45f7-b3fe-7c965c0f8db4"
   },
   "outputs": [
    {
     "name": "stdout",
     "output_type": "stream",
     "text": [
      "1000 Bootstrapped pihat for Woman: (0.01872, 0.10713)\n",
      "1000 Bootstrapped pihat for Man: (-0.03746, 0.05004)\n"
     ]
    }
   ],
   "source": [
    "for k, v in bootstrapped_pihat.items():\n",
    "  low, high = calculate_CI(v)\n",
    "  print(f'{trials} Bootstrapped pihat for {k}: ({low}, {high})')"
   ]
  },
  {
   "cell_type": "markdown",
   "metadata": {
    "id": "RdVeTHSZes2h"
   },
   "source": [
    "# Analyzing demographics"
   ]
  },
  {
   "cell_type": "code",
   "execution_count": 13,
   "metadata": {
    "colab": {
     "base_uri": "https://localhost:8080/"
    },
    "executionInfo": {
     "elapsed": 51,
     "status": "ok",
     "timestamp": 1761515096772,
     "user": {
      "displayName": "Federica Bologna",
      "userId": "16530074403271623482"
     },
     "user_tz": 240
    },
    "id": "S0Mon3M6esol",
    "outputId": "850cb303-1621-47d7-af8f-9eae8b5afcf6"
   },
   "outputs": [
    {
     "data": {
      "text/plain": [
       "Index(['Response ID',\n",
       "       'If you agree to these conditions, please click \"I consent to participate\" below. If you do not agree, click the “I do not consent to participate” option.\\n\\nBy agreeing to participate, you confirm that you are over 18 years of age.\\n\\n \\n\\nI have read the above information.',\n",
       "       'In Novel A, how long is the trail that Sam takes?',\n",
       "       'In Novel A, what plant does Sam rest against?',\n",
       "       'In Novel B, when does Alex go to the cafe?',\n",
       "       'In Novel B, what is the material of the chair Alex sketches?',\n",
       "       'chosen_story',\n",
       "       'Your opinion is fundamental to understand reader preferences. Please take your time to answer this question.\\n\\nIn your own words, briefly share your motivation for your choice (minimum 200 characters, or about 40 words).',\n",
       "       'Your age:', 'gender', 'Your gender - Prefer to self describe: - Text',\n",
       "       'What was your total family income before taxes during the past 12 months?',\n",
       "       'List of Countries', 'Do you currently reside in the United States?',\n",
       "       'What is your current United States Zip Code?',\n",
       "       'How would you describe your political views?',\n",
       "       'In Novel A, when does Alex go to the cafe?',\n",
       "       'In Novel A, what is the material of the chair Alex sketches?',\n",
       "       'In Novel B, how long is the trail that Sam takes?',\n",
       "       'In Novel B, what plant does Sam rest against?', 'first_gender',\n",
       "       'first_story', 'Treatment A', 'chose_hike', 'respondent_woman'],\n",
       "      dtype='object')"
      ]
     },
     "execution_count": 13,
     "metadata": {},
     "output_type": "execute_result"
    }
   ],
   "source": [
    "public.columns"
   ]
  },
  {
   "cell_type": "code",
   "execution_count": 14,
   "metadata": {
    "colab": {
     "base_uri": "https://localhost:8080/",
     "height": 214
    },
    "executionInfo": {
     "elapsed": 49,
     "status": "ok",
     "timestamp": 1761516446847,
     "user": {
      "displayName": "Federica Bologna",
      "userId": "16530074403271623482"
     },
     "user_tz": 240
    },
    "id": "0bcee2e7",
    "outputId": "14a33a1b-487f-4194-96d7-4b45b162beb4"
   },
   "outputs": [
    {
     "data": {
      "text/html": [
       "<div>\n",
       "<style scoped>\n",
       "    .dataframe tbody tr th:only-of-type {\n",
       "        vertical-align: middle;\n",
       "    }\n",
       "\n",
       "    .dataframe tbody tr th {\n",
       "        vertical-align: top;\n",
       "    }\n",
       "\n",
       "    .dataframe thead th {\n",
       "        text-align: right;\n",
       "    }\n",
       "</style>\n",
       "<table border=\"1\" class=\"dataframe\">\n",
       "  <thead>\n",
       "    <tr style=\"text-align: right;\">\n",
       "      <th></th>\n",
       "      <th>Political View</th>\n",
       "      <th>Percentage</th>\n",
       "    </tr>\n",
       "  </thead>\n",
       "  <tbody>\n",
       "    <tr>\n",
       "      <th>4</th>\n",
       "      <td>Very conservative</td>\n",
       "      <td>5.499665</td>\n",
       "    </tr>\n",
       "    <tr>\n",
       "      <th>3</th>\n",
       "      <td>Conservative</td>\n",
       "      <td>16.130114</td>\n",
       "    </tr>\n",
       "    <tr>\n",
       "      <th>1</th>\n",
       "      <td>Moderate</td>\n",
       "      <td>27.162978</td>\n",
       "    </tr>\n",
       "    <tr>\n",
       "      <th>0</th>\n",
       "      <td>Liberal</td>\n",
       "      <td>33.266264</td>\n",
       "    </tr>\n",
       "    <tr>\n",
       "      <th>2</th>\n",
       "      <td>Very liberal</td>\n",
       "      <td>17.940979</td>\n",
       "    </tr>\n",
       "  </tbody>\n",
       "</table>\n",
       "</div>"
      ],
      "text/plain": [
       "      Political View  Percentage\n",
       "4  Very conservative    5.499665\n",
       "3       Conservative   16.130114\n",
       "1           Moderate   27.162978\n",
       "0            Liberal   33.266264\n",
       "2       Very liberal   17.940979"
      ]
     },
     "metadata": {},
     "output_type": "display_data"
    }
   ],
   "source": [
    "political_views_counts = public['How would you describe your political views?'].value_counts()\n",
    "political_views_percentages = political_views_counts / political_views_counts.sum() * 100\n",
    "\n",
    "political_views_table = pd.DataFrame({\n",
    "    'Political View': political_views_percentages.index,\n",
    "    'Percentage': political_views_percentages.values\n",
    "})\n",
    "\n",
    "# Optional: Define an order for political views if needed for sorting\n",
    "political_views_order = [\n",
    "    'Very conservative',\n",
    "    'Conservative',\n",
    "    'Moderate',\n",
    "    'Liberal',\n",
    "    'Very liberal',\n",
    "    'Prefer not to disclose'\n",
    "]\n",
    "political_views_table['Political View'] = pd.Categorical(political_views_table['Political View'], categories=political_views_order, ordered=True)\n",
    "political_views_table = political_views_table.sort_values('Political View')\n",
    "\n",
    "\n",
    "display(political_views_table)"
   ]
  },
  {
   "cell_type": "code",
   "execution_count": 15,
   "metadata": {
    "colab": {
     "base_uri": "https://localhost:8080/",
     "height": 246
    },
    "executionInfo": {
     "elapsed": 50,
     "status": "ok",
     "timestamp": 1761516359344,
     "user": {
      "displayName": "Federica Bologna",
      "userId": "16530074403271623482"
     },
     "user_tz": 240
    },
    "id": "50eb47e5",
    "outputId": "90b181d3-31a7-4574-f8c9-9d6019faf004"
   },
   "outputs": [
    {
     "data": {
      "text/html": [
       "<div>\n",
       "<style scoped>\n",
       "    .dataframe tbody tr th:only-of-type {\n",
       "        vertical-align: middle;\n",
       "    }\n",
       "\n",
       "    .dataframe tbody tr th {\n",
       "        vertical-align: top;\n",
       "    }\n",
       "\n",
       "    .dataframe thead th {\n",
       "        text-align: right;\n",
       "    }\n",
       "</style>\n",
       "<table border=\"1\" class=\"dataframe\">\n",
       "  <thead>\n",
       "    <tr style=\"text-align: right;\">\n",
       "      <th></th>\n",
       "      <th>Income Level</th>\n",
       "      <th>Percentage</th>\n",
       "    </tr>\n",
       "  </thead>\n",
       "  <tbody>\n",
       "    <tr>\n",
       "      <th>5</th>\n",
       "      <td>Prefer not to disclose</td>\n",
       "      <td>2.0</td>\n",
       "    </tr>\n",
       "    <tr>\n",
       "      <th>3</th>\n",
       "      <td>Less than $25,000</td>\n",
       "      <td>11.0</td>\n",
       "    </tr>\n",
       "    <tr>\n",
       "      <th>2</th>\n",
       "      <td>$25,000-$49,999</td>\n",
       "      <td>20.0</td>\n",
       "    </tr>\n",
       "    <tr>\n",
       "      <th>0</th>\n",
       "      <td>$50,000-$99,999</td>\n",
       "      <td>37.0</td>\n",
       "    </tr>\n",
       "    <tr>\n",
       "      <th>1</th>\n",
       "      <td>$100,000-$199,999</td>\n",
       "      <td>25.0</td>\n",
       "    </tr>\n",
       "    <tr>\n",
       "      <th>4</th>\n",
       "      <td>More than $200,000</td>\n",
       "      <td>6.0</td>\n",
       "    </tr>\n",
       "  </tbody>\n",
       "</table>\n",
       "</div>"
      ],
      "text/plain": [
       "             Income Level  Percentage\n",
       "5  Prefer not to disclose         2.0\n",
       "3       Less than $25,000        11.0\n",
       "2         $25,000-$49,999        20.0\n",
       "0         $50,000-$99,999        37.0\n",
       "1       $100,000-$199,999        25.0\n",
       "4      More than $200,000         6.0"
      ]
     },
     "metadata": {},
     "output_type": "display_data"
    }
   ],
   "source": [
    "income_counts = public['What was your total family income before taxes during the past 12 months?'].value_counts()\n",
    "income_percentages = round(income_counts / income_counts.sum() * 100)\n",
    "\n",
    "income_table = pd.DataFrame({\n",
    "    'Income Level': income_percentages.index,\n",
    "    'Percentage': income_percentages.values\n",
    "})\n",
    "\n",
    "# Optional: Reorder the table according to the defined income_order\n",
    "income_order = [\n",
    "    'Prefer not to disclose',\n",
    "    'Less than $25,000',\n",
    "    '$25,000-$49,999',\n",
    "    '$50,000-$99,999',\n",
    "    '$100,000-$199,999',\n",
    "    'More than $200,000'\n",
    "]\n",
    "income_table['Income Level'] = pd.Categorical(income_table['Income Level'], categories=income_order, ordered=True)\n",
    "income_table = income_table.sort_values('Income Level')\n",
    "\n",
    "\n",
    "display(income_table)"
   ]
  },
  {
   "cell_type": "code",
   "execution_count": 16,
   "metadata": {
    "colab": {
     "base_uri": "https://localhost:8080/",
     "height": 807
    },
    "executionInfo": {
     "elapsed": 634,
     "status": "ok",
     "timestamp": 1761515427987,
     "user": {
      "displayName": "Federica Bologna",
      "userId": "16530074403271623482"
     },
     "user_tz": 240
    },
    "id": "a-thvQhte0n-",
    "outputId": "0a9673b0-c4a9-4ea2-9cdc-7c6e9a1231ca"
   },
   "outputs": [
    {
     "data": {
      "image/png": "[encoded data removed]",
      "text/plain": [
       "<Figure size 800x800 with 1 Axes>"
      ]
     },
     "metadata": {},
     "output_type": "display_data"
    }
   ],
   "source": [
    "income_order = [\n",
    "    'Prefer not to disclose',\n",
    "    'Less than $25,000',\n",
    "    '$25,000-$49,999',\n",
    "    '$50,000-$99,999',\n",
    "    '$100,000-$199,999',\n",
    "    'More than $200,000'\n",
    "]\n",
    "\n",
    "plt.figure(figsize=(8, 8))\n",
    "sns.countplot(data=public, x='What was your total family income before taxes during the past 12 months?', order=income_order, palette='colorblind', hue='What was your total family income before taxes during the past 12 months?', legend=False)\n",
    "plt.title('Distribution of Family Income')\n",
    "plt.xlabel('Total Family Income Before Taxes (Past 12 Months)')\n",
    "plt.ylabel('Count')\n",
    "plt.xticks(rotation=45)\n",
    "plt.tight_layout()\n",
    "plt.show()"
   ]
  },
  {
   "cell_type": "code",
   "execution_count": 17,
   "metadata": {
    "id": "RTUmgRLafN5p"
   },
   "outputs": [
    {
     "data": {
      "text/plain": [
       "Your age:\n",
       "25-35    0.330204\n",
       "36-45    0.251425\n",
       "46-55    0.189742\n",
       "56-65    0.096212\n",
       "18-24    0.076768\n",
       "65+      0.055649\n",
       "Name: count, dtype: float64"
      ]
     },
     "execution_count": 17,
     "metadata": {},
     "output_type": "execute_result"
    }
   ],
   "source": [
    "public[\"Your age:\"].value_counts() / public[\"Your age:\"].value_counts().sum()"
   ]
  },
  {
   "cell_type": "code",
   "execution_count": null,
   "metadata": {},
   "outputs": [],
   "source": []
  }
 ],
 "metadata": {
  "colab": {
   "authorship_tag": "ABX9TyPbsAsLnbQlvOtohjUMAeL+",
   "provenance": []
  },
  "kernelspec": {
   "display_name": "nlp25",
   "language": "python",
   "name": "python3"
  },
  "language_info": {
   "codemirror_mode": {
    "name": "ipython",
    "version": 3
   },
   "file_extension": ".py",
   "mimetype": "text/x-python",
   "name": "python",
   "nbconvert_exporter": "python",
   "pygments_lexer": "ipython3",
   "version": "3.12.10"
  }
 },
 "nbformat": 4,
 "nbformat_minor": 0
}
