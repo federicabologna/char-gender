{
  "nbformat": 4,
  "nbformat_minor": 0,
  "metadata": {
    "colab": {
      "provenance": []
    },
    "kernelspec": {
      "name": "python3",
      "display_name": "Python 3"
    },
    "language_info": {
      "name": "python"
    }
  },
  "cells": [
    {
      "cell_type": "code",
      "execution_count": 1,
      "metadata": {
        "id": "8SDweS3wPMCD"
      },
      "outputs": [],
      "source": [
        "import os\n",
        "from collections import Counter\n",
        "import pandas as pd\n",
        "import numpy as np\n",
        "import seaborn as sns\n",
        "import matplotlib.pyplot as plt\n",
        "import matplotlib as mpl\n",
        "from scipy import stats\n",
        "from google.colab import drive, files"
      ]
    },
    {
      "cell_type": "code",
      "source": [
        "drive.mount('/content/drive')"
      ],
      "metadata": {
        "colab": {
          "base_uri": "https://localhost:8080/"
        },
        "id": "ssrCeh_YPU14",
        "outputId": "eefc4040-39ba-402b-e78b-fb330397baa8"
      },
      "execution_count": 2,
      "outputs": [
        {
          "output_type": "stream",
          "name": "stdout",
          "text": [
            "Mounted at /content/drive\n"
          ]
        }
      ]
    },
    {
      "cell_type": "code",
      "source": [
        "data_dir = '/content/drive/MyDrive/char_gender/data/'"
      ],
      "metadata": {
        "id": "rLQJxVp5PWDP"
      },
      "execution_count": 3,
      "outputs": []
    },
    {
      "cell_type": "code",
      "source": [
        "df = pd.read_csv(os.path.join(data_dir, 'char_gender_final.csv'), header=1).iloc[1:].rename(columns={'Recorded Date': 'date',\n",
        "                           'First Story': 'First_Story'.lower(),\n",
        "                           'First Gender': 'First_Gender'.lower(),\n",
        "                           'Your gender - Selected Choice':'gender',\n",
        "                           'Suppose you had both novels in your hand. Which one would you continue reading?': 'chosen_story'})\n",
        "print(len(df))\n",
        "# df[:1]"
      ],
      "metadata": {
        "colab": {
          "base_uri": "https://localhost:8080/"
        },
        "id": "cPjuw4AsQlAG",
        "outputId": "46c13b3a-4c0c-4509-ca52-0238f7b2b5dd"
      },
      "execution_count": 4,
      "outputs": [
        {
          "output_type": "stream",
          "name": "stdout",
          "text": [
            "3508\n"
          ]
        }
      ]
    },
    {
      "cell_type": "code",
      "source": [
        "rids_awesome = []\n",
        "\n",
        "for index, row in df.iterrows():\n",
        "\n",
        "  cond_hike = (row['In Novel A, how long is the trail that Sam takes?'] == '6 miles') and (row['In Novel A, what plant does Sam rest against?'] == 'Juniper tree') and (row['In Novel B, when does Alex go to the cafe?'] == 'Morning') and (row['In Novel B, what is the material of the chair Alex sketches?'] == 'Wood')\n",
        "\n",
        "  cond_coffee = (row['In Novel B, how long is the trail that Sam takes?'] == '6 miles') and (row['In Novel B, what plant does Sam rest against?'] == 'Juniper tree') and (row['In Novel A, when does Alex go to the cafe?'] == 'Morning') and (row['In Novel A, what is the material of the chair Alex sketches?'] == 'Wood')\n",
        "\n",
        "  recent = '2024-05' in row['date'] and int(row['date'].split('-')[2][:2]) > 16\n",
        "  complete = not pd.isna(row['chosen_story']) and not pd.isna(row['gender'])\n",
        "  correct = cond_hike or cond_coffee\n",
        "\n",
        "  if recent and complete and correct:\n",
        "\n",
        "    rids_awesome.append(row['Response ID'])\n",
        "\n",
        "print(len(rids_awesome))"
      ],
      "metadata": {
        "colab": {
          "base_uri": "https://localhost:8080/"
        },
        "id": "RIM5WSKBNA_v",
        "outputId": "5640dbc8-c9af-478c-a5a8-c84af05057ed"
      },
      "execution_count": 5,
      "outputs": [
        {
          "output_type": "stream",
          "name": "stdout",
          "text": [
            "3002\n"
          ]
        }
      ]
    },
    {
      "cell_type": "code",
      "source": [
        "awesome = df.set_index('Response ID').loc[rids_awesome[:3000]]"
      ],
      "metadata": {
        "id": "ICJy9DZgcGsU"
      },
      "execution_count": 6,
      "outputs": []
    },
    {
      "cell_type": "code",
      "source": [
        "enby = 0\n",
        "rids_clean = []\n",
        "for index, row in awesome.iterrows():\n",
        "  if row['gender'] == 'Woman' or row['gender'] == 'Man':\n",
        "    rids_clean.append(index)\n",
        "  else:\n",
        "    enby += 1\n",
        "enby"
      ],
      "metadata": {
        "id": "Pd8wucYEbRwm",
        "colab": {
          "base_uri": "https://localhost:8080/"
        },
        "outputId": "fd7cab38-3e2e-4e5a-f2a9-9d69dd1926aa"
      },
      "execution_count": 7,
      "outputs": [
        {
          "output_type": "execute_result",
          "data": {
            "text/plain": [
              "17"
            ]
          },
          "metadata": {},
          "execution_count": 7
        }
      ]
    },
    {
      "cell_type": "code",
      "source": [
        "clean = df.set_index('Response ID').loc[rids_clean]\n",
        "len(clean)"
      ],
      "metadata": {
        "colab": {
          "base_uri": "https://localhost:8080/"
        },
        "id": "d6Lvt1V7N_-S",
        "outputId": "7e107533-fed5-44a1-dd66-77910ed6daf7"
      },
      "execution_count": 8,
      "outputs": [
        {
          "output_type": "execute_result",
          "data": {
            "text/plain": [
              "2983"
            ]
          },
          "metadata": {},
          "execution_count": 8
        }
      ]
    },
    {
      "cell_type": "code",
      "source": [
        "chose_woman = []\n",
        "treatmentA = []\n",
        "chose_hike = []\n",
        "\n",
        "for index, row in clean.iterrows():\n",
        "\n",
        "  if (row['first_gender'] == 'W' and row['chosen_story'] == 'Novel A') or (row['first_gender'] == 'M' and row['chosen_story'] == 'Novel B'):\n",
        "    chose_woman.append(1)\n",
        "  else:\n",
        "    chose_woman.append(0)\n",
        "\n",
        "  if (row['first_gender'] == 'W' and row['first_story'] == 'Hike') or (row['first_gender'] == 'M' and row['first_story'] == 'Coffee'):\n",
        "    treatmentA.append('Hike')\n",
        "  else:\n",
        "    treatmentA.append('Other')\n",
        "\n",
        "  if (row['first_story'] == 'Hike' and row['chosen_story'] == 'Novel A') or (row['first_story'] == 'Coffee' and row['chosen_story'] == 'Novel B'):\n",
        "    chose_hike.append(1)\n",
        "  else:\n",
        "    chose_hike.append(0)\n",
        "\n",
        "clean['chose_woman'] = chose_woman\n",
        "clean['Treatment A'] = treatmentA\n",
        "clean['chose_hike'] = chose_hike"
      ],
      "metadata": {
        "id": "iy_rVEskgMNa"
      },
      "execution_count": 9,
      "outputs": []
    },
    {
      "cell_type": "code",
      "source": [
        "2983-1465"
      ],
      "metadata": {
        "id": "R3wlYKOxt1uT",
        "outputId": "cbf7ce0e-cec8-43dc-e88d-2d4e1152ecf4",
        "colab": {
          "base_uri": "https://localhost:8080/"
        }
      },
      "execution_count": 10,
      "outputs": [
        {
          "output_type": "execute_result",
          "data": {
            "text/plain": [
              "1518"
            ]
          },
          "metadata": {},
          "execution_count": 10
        }
      ]
    },
    {
      "cell_type": "code",
      "source": [
        "clean['respondent_woman'] = clean['gender'].apply(lambda x: 1 if x == 'Woman' else 0)"
      ],
      "metadata": {
        "id": "ZfIL-FzFj18c"
      },
      "execution_count": 11,
      "outputs": []
    },
    {
      "cell_type": "code",
      "source": [
        "W = 0\n",
        "M = 0\n",
        "for x in clean['gender']:\n",
        "  if x == 'Woman':\n",
        "    W += 1\n",
        "  else:\n",
        "    M += 1\n",
        "print(W, M)"
      ],
      "metadata": {
        "colab": {
          "base_uri": "https://localhost:8080/"
        },
        "id": "XcmnWax05sXR",
        "outputId": "14c2b098-4743-47c6-98d8-d2f5ec66382a"
      },
      "execution_count": 12,
      "outputs": [
        {
          "output_type": "stream",
          "name": "stdout",
          "text": [
            "1492 1491\n"
          ]
        }
      ]
    },
    {
      "cell_type": "code",
      "source": [
        "#clean.to_csv(os.path.join(data_dir, 'clean_recent.csv'))"
      ],
      "metadata": {
        "id": "BYH3J1o2smvC"
      },
      "execution_count": null,
      "outputs": []
    },
    {
      "cell_type": "code",
      "source": [
        "clean.columns[16:]"
      ],
      "metadata": {
        "colab": {
          "base_uri": "https://localhost:8080/"
        },
        "id": "YwDBHUJga1k-",
        "outputId": "ff388f51-6fb5-4af3-ed4d-23a6016d0a2c"
      },
      "execution_count": 14,
      "outputs": [
        {
          "output_type": "execute_result",
          "data": {
            "text/plain": [
              "Index(['If you agree to these conditions, please click \"I consent to participate\" below. If you do not agree, click the “I do not consent to participate” option.\\n\\nBy agreeing to participate, you confirm that you are over 18 years of age.\\n\\n \\n\\nI have read the above information.',\n",
              "       'What is your Prolific ID?\\n\\nPlease note that this response should auto-fill with the correct ID.',\n",
              "       'In Novel A, how long is the trail that Sam takes?',\n",
              "       'In Novel A, what plant does Sam rest against?',\n",
              "       'In Novel B, when does Alex go to the cafe?',\n",
              "       'In Novel B, what is the material of the chair Alex sketches?',\n",
              "       'chosen_story',\n",
              "       'Your opinion is fundamental to understand reader preferences. Please take your time to answer this question.\\n\\nIn your own words, briefly share your motivation for your choice (minimum 200 characters, or about 40 words).',\n",
              "       'Your age:', 'gender', 'Your gender - Prefer to self describe: - Text',\n",
              "       'What was your total family income before taxes during the past 12 months?',\n",
              "       'List of Countries', 'Do you currently reside in the United States?',\n",
              "       'What is your current United States Zip Code?',\n",
              "       'How would you describe your political views?',\n",
              "       'In Novel A, when does Alex go to the cafe?',\n",
              "       'In Novel A, what is the material of the chair Alex sketches?',\n",
              "       'In Novel B, how long is the trail that Sam takes?',\n",
              "       'In Novel B, what plant does Sam rest against?', 'PROLIFIC_PID', 'boh',\n",
              "       'first_gender', 'first_story', 'chose_woman', 'Treatment A',\n",
              "       'chose_hike', 'respondent_woman'],\n",
              "      dtype='object')"
            ]
          },
          "metadata": {},
          "execution_count": 14
        }
      ]
    },
    {
      "cell_type": "code",
      "source": [
        "public = clean[clean.columns[16:]].drop(columns=['PROLIFIC_PID'])\n",
        "public.to_csv(os.path.join(data_dir, 'public_data.csv'))\n",
        "public.head()"
      ],
      "metadata": {
        "id": "SMTovWqrX6fB",
        "colab": {
          "base_uri": "https://localhost:8080/",
          "height": 892
        },
        "outputId": "a7d6e74c-ca6f-464a-cfe2-ad31eb7e41fd"
      },
      "execution_count": 18,
      "outputs": [
        {
          "output_type": "execute_result",
          "data": {
            "text/plain": [
              "                  If you agree to these conditions, please click \"I consent to participate\" below. If you do not agree, click the “I do not consent to participate” option.\\n\\nBy agreeing to participate, you confirm that you are over 18 years of age.\\n\\n \\n\\nI have read the above information.  \\\n",
              "Response ID                                                                                                                                                                                                                                                                                            \n",
              "R_7rxJeX0686uzPHi                          I consent to participate.                                                                                                                                                                                                                                   \n",
              "R_1Mng04p43Zl3xvb                          I consent to participate.                                                                                                                                                                                                                                   \n",
              "R_1IHhRxaGPtHjhQ2                          I consent to participate.                                                                                                                                                                                                                                   \n",
              "R_1oFSEE8V2SpwrhD                          I consent to participate.                                                                                                                                                                                                                                   \n",
              "R_1jVUjK5fbarEH9T                          I consent to participate.                                                                                                                                                                                                                                   \n",
              "\n",
              "                  What is your Prolific ID?\\n\\nPlease note that this response should auto-fill with the correct ID.  \\\n",
              "Response ID                                                                                                           \n",
              "R_7rxJeX0686uzPHi                           6091bd96d843a1deae56e0db                                                  \n",
              "R_1Mng04p43Zl3xvb                           5c57890153fba80001bd3ba1                                                  \n",
              "R_1IHhRxaGPtHjhQ2                           614f2b16d983019aeace1fe5                                                  \n",
              "R_1oFSEE8V2SpwrhD                           662bb5980728ced80aa04876                                                  \n",
              "R_1jVUjK5fbarEH9T                           66352dc9534503854d9079bf                                                  \n",
              "\n",
              "                  In Novel A, how long is the trail that Sam takes?  \\\n",
              "Response ID                                                           \n",
              "R_7rxJeX0686uzPHi                                           6 miles   \n",
              "R_1Mng04p43Zl3xvb                                               NaN   \n",
              "R_1IHhRxaGPtHjhQ2                                           6 miles   \n",
              "R_1oFSEE8V2SpwrhD                                           6 miles   \n",
              "R_1jVUjK5fbarEH9T                                           6 miles   \n",
              "\n",
              "                  In Novel A, what plant does Sam rest against?  \\\n",
              "Response ID                                                       \n",
              "R_7rxJeX0686uzPHi                                  Juniper tree   \n",
              "R_1Mng04p43Zl3xvb                                           NaN   \n",
              "R_1IHhRxaGPtHjhQ2                                  Juniper tree   \n",
              "R_1oFSEE8V2SpwrhD                                  Juniper tree   \n",
              "R_1jVUjK5fbarEH9T                                  Juniper tree   \n",
              "\n",
              "                  In Novel B, when does Alex go to the cafe?  \\\n",
              "Response ID                                                    \n",
              "R_7rxJeX0686uzPHi                                    Morning   \n",
              "R_1Mng04p43Zl3xvb                                        NaN   \n",
              "R_1IHhRxaGPtHjhQ2                                    Morning   \n",
              "R_1oFSEE8V2SpwrhD                                    Morning   \n",
              "R_1jVUjK5fbarEH9T                                    Morning   \n",
              "\n",
              "                  In Novel B, what is the material of the chair Alex sketches?  \\\n",
              "Response ID                                                                      \n",
              "R_7rxJeX0686uzPHi                                               Wood             \n",
              "R_1Mng04p43Zl3xvb                                                NaN             \n",
              "R_1IHhRxaGPtHjhQ2                                               Wood             \n",
              "R_1oFSEE8V2SpwrhD                                               Wood             \n",
              "R_1jVUjK5fbarEH9T                                               Wood             \n",
              "\n",
              "                  chosen_story  \\\n",
              "Response ID                      \n",
              "R_7rxJeX0686uzPHi      Novel A   \n",
              "R_1Mng04p43Zl3xvb      Novel B   \n",
              "R_1IHhRxaGPtHjhQ2      Novel A   \n",
              "R_1oFSEE8V2SpwrhD      Novel B   \n",
              "R_1jVUjK5fbarEH9T      Novel A   \n",
              "\n",
              "                  Your opinion is fundamental to understand reader preferences. Please take your time to answer this question.\\n\\nIn your own words, briefly share your motivation for your choice (minimum 200 characters, or about 40 words).  \\\n",
              "Response ID                                                                                                                                                                                                                                       \n",
              "R_7rxJeX0686uzPHi  Novel A has more information about a potential...                                                                                                                                                                              \n",
              "R_1Mng04p43Zl3xvb  Novel B drew me in with the suspense of exactl...                                                                                                                                                                              \n",
              "R_1IHhRxaGPtHjhQ2  I prefer to read novel A because it was easier...                                                                                                                                                                              \n",
              "R_1oFSEE8V2SpwrhD  I'm also interested in art and enjoy a main ch...                                                                                                                                                                              \n",
              "R_1jVUjK5fbarEH9T  My curiosity about the contents of the note/le...                                                                                                                                                                              \n",
              "\n",
              "                  Your age: gender  ...  \\\n",
              "Response ID                         ...   \n",
              "R_7rxJeX0686uzPHi     25-35    Man  ...   \n",
              "R_1Mng04p43Zl3xvb     36-45    Man  ...   \n",
              "R_1IHhRxaGPtHjhQ2     25-35  Woman  ...   \n",
              "R_1oFSEE8V2SpwrhD     18-24  Woman  ...   \n",
              "R_1jVUjK5fbarEH9T     36-45  Woman  ...   \n",
              "\n",
              "                  In Novel A, what is the material of the chair Alex sketches?  \\\n",
              "Response ID                                                                      \n",
              "R_7rxJeX0686uzPHi                                                NaN             \n",
              "R_1Mng04p43Zl3xvb                                               Wood             \n",
              "R_1IHhRxaGPtHjhQ2                                                NaN             \n",
              "R_1oFSEE8V2SpwrhD                                                NaN             \n",
              "R_1jVUjK5fbarEH9T                                                NaN             \n",
              "\n",
              "                  In Novel B, how long is the trail that Sam takes?  \\\n",
              "Response ID                                                           \n",
              "R_7rxJeX0686uzPHi                                               NaN   \n",
              "R_1Mng04p43Zl3xvb                                           6 miles   \n",
              "R_1IHhRxaGPtHjhQ2                                               NaN   \n",
              "R_1oFSEE8V2SpwrhD                                               NaN   \n",
              "R_1jVUjK5fbarEH9T                                               NaN   \n",
              "\n",
              "                  In Novel B, what plant does Sam rest against?  boh  \\\n",
              "Response ID                                                            \n",
              "R_7rxJeX0686uzPHi                                           NaN  NaN   \n",
              "R_1Mng04p43Zl3xvb                                  Juniper tree  NaN   \n",
              "R_1IHhRxaGPtHjhQ2                                           NaN  NaN   \n",
              "R_1oFSEE8V2SpwrhD                                           NaN  NaN   \n",
              "R_1jVUjK5fbarEH9T                                           NaN  NaN   \n",
              "\n",
              "                  first_gender first_story chose_woman Treatment A chose_hike  \\\n",
              "Response ID                                                                     \n",
              "R_7rxJeX0686uzPHi            W        Hike           1        Hike          1   \n",
              "R_1Mng04p43Zl3xvb            M      Coffee           1        Hike          1   \n",
              "R_1IHhRxaGPtHjhQ2            W        Hike           1        Hike          1   \n",
              "R_1oFSEE8V2SpwrhD            W        Hike           0        Hike          0   \n",
              "R_1jVUjK5fbarEH9T            W        Hike           1        Hike          1   \n",
              "\n",
              "                  respondent_woman  \n",
              "Response ID                         \n",
              "R_7rxJeX0686uzPHi                0  \n",
              "R_1Mng04p43Zl3xvb                0  \n",
              "R_1IHhRxaGPtHjhQ2                1  \n",
              "R_1oFSEE8V2SpwrhD                1  \n",
              "R_1jVUjK5fbarEH9T                1  \n",
              "\n",
              "[5 rows x 27 columns]"
            ],
            "text/html": [
              "\n",
              "  <div id=\"df-b58e69d6-59b1-499e-9a2d-acb3e69f92ec\" class=\"colab-df-container\">\n",
              "    <div>\n",
              "<style scoped>\n",
              "    .dataframe tbody tr th:only-of-type {\n",
              "        vertical-align: middle;\n",
              "    }\n",
              "\n",
              "    .dataframe tbody tr th {\n",
              "        vertical-align: top;\n",
              "    }\n",
              "\n",
              "    .dataframe thead th {\n",
              "        text-align: right;\n",
              "    }\n",
              "</style>\n",
              "<table border=\"1\" class=\"dataframe\">\n",
              "  <thead>\n",
              "    <tr style=\"text-align: right;\">\n",
              "      <th></th>\n",
              "      <th>If you agree to these conditions, please click \"I consent to participate\" below. If you do not agree, click the “I do not consent to participate” option.\\n\\nBy agreeing to participate, you confirm that you are over 18 years of age.\\n\\n \\n\\nI have read the above information.</th>\n",
              "      <th>What is your Prolific ID?\\n\\nPlease note that this response should auto-fill with the correct ID.</th>\n",
              "      <th>In Novel A, how long is the trail that Sam takes?</th>\n",
              "      <th>In Novel A, what plant does Sam rest against?</th>\n",
              "      <th>In Novel B, when does Alex go to the cafe?</th>\n",
              "      <th>In Novel B, what is the material of the chair Alex sketches?</th>\n",
              "      <th>chosen_story</th>\n",
              "      <th>Your opinion is fundamental to understand reader preferences. Please take your time to answer this question.\\n\\nIn your own words, briefly share your motivation for your choice (minimum 200 characters, or about 40 words).</th>\n",
              "      <th>Your age:</th>\n",
              "      <th>gender</th>\n",
              "      <th>...</th>\n",
              "      <th>In Novel A, what is the material of the chair Alex sketches?</th>\n",
              "      <th>In Novel B, how long is the trail that Sam takes?</th>\n",
              "      <th>In Novel B, what plant does Sam rest against?</th>\n",
              "      <th>boh</th>\n",
              "      <th>first_gender</th>\n",
              "      <th>first_story</th>\n",
              "      <th>chose_woman</th>\n",
              "      <th>Treatment A</th>\n",
              "      <th>chose_hike</th>\n",
              "      <th>respondent_woman</th>\n",
              "    </tr>\n",
              "    <tr>\n",
              "      <th>Response ID</th>\n",
              "      <th></th>\n",
              "      <th></th>\n",
              "      <th></th>\n",
              "      <th></th>\n",
              "      <th></th>\n",
              "      <th></th>\n",
              "      <th></th>\n",
              "      <th></th>\n",
              "      <th></th>\n",
              "      <th></th>\n",
              "      <th></th>\n",
              "      <th></th>\n",
              "      <th></th>\n",
              "      <th></th>\n",
              "      <th></th>\n",
              "      <th></th>\n",
              "      <th></th>\n",
              "      <th></th>\n",
              "      <th></th>\n",
              "      <th></th>\n",
              "      <th></th>\n",
              "    </tr>\n",
              "  </thead>\n",
              "  <tbody>\n",
              "    <tr>\n",
              "      <th>R_7rxJeX0686uzPHi</th>\n",
              "      <td>I consent to participate.</td>\n",
              "      <td>6091bd96d843a1deae56e0db</td>\n",
              "      <td>6 miles</td>\n",
              "      <td>Juniper tree</td>\n",
              "      <td>Morning</td>\n",
              "      <td>Wood</td>\n",
              "      <td>Novel A</td>\n",
              "      <td>Novel A has more information about a potential...</td>\n",
              "      <td>25-35</td>\n",
              "      <td>Man</td>\n",
              "      <td>...</td>\n",
              "      <td>NaN</td>\n",
              "      <td>NaN</td>\n",
              "      <td>NaN</td>\n",
              "      <td>NaN</td>\n",
              "      <td>W</td>\n",
              "      <td>Hike</td>\n",
              "      <td>1</td>\n",
              "      <td>Hike</td>\n",
              "      <td>1</td>\n",
              "      <td>0</td>\n",
              "    </tr>\n",
              "    <tr>\n",
              "      <th>R_1Mng04p43Zl3xvb</th>\n",
              "      <td>I consent to participate.</td>\n",
              "      <td>5c57890153fba80001bd3ba1</td>\n",
              "      <td>NaN</td>\n",
              "      <td>NaN</td>\n",
              "      <td>NaN</td>\n",
              "      <td>NaN</td>\n",
              "      <td>Novel B</td>\n",
              "      <td>Novel B drew me in with the suspense of exactl...</td>\n",
              "      <td>36-45</td>\n",
              "      <td>Man</td>\n",
              "      <td>...</td>\n",
              "      <td>Wood</td>\n",
              "      <td>6 miles</td>\n",
              "      <td>Juniper tree</td>\n",
              "      <td>NaN</td>\n",
              "      <td>M</td>\n",
              "      <td>Coffee</td>\n",
              "      <td>1</td>\n",
              "      <td>Hike</td>\n",
              "      <td>1</td>\n",
              "      <td>0</td>\n",
              "    </tr>\n",
              "    <tr>\n",
              "      <th>R_1IHhRxaGPtHjhQ2</th>\n",
              "      <td>I consent to participate.</td>\n",
              "      <td>614f2b16d983019aeace1fe5</td>\n",
              "      <td>6 miles</td>\n",
              "      <td>Juniper tree</td>\n",
              "      <td>Morning</td>\n",
              "      <td>Wood</td>\n",
              "      <td>Novel A</td>\n",
              "      <td>I prefer to read novel A because it was easier...</td>\n",
              "      <td>25-35</td>\n",
              "      <td>Woman</td>\n",
              "      <td>...</td>\n",
              "      <td>NaN</td>\n",
              "      <td>NaN</td>\n",
              "      <td>NaN</td>\n",
              "      <td>NaN</td>\n",
              "      <td>W</td>\n",
              "      <td>Hike</td>\n",
              "      <td>1</td>\n",
              "      <td>Hike</td>\n",
              "      <td>1</td>\n",
              "      <td>1</td>\n",
              "    </tr>\n",
              "    <tr>\n",
              "      <th>R_1oFSEE8V2SpwrhD</th>\n",
              "      <td>I consent to participate.</td>\n",
              "      <td>662bb5980728ced80aa04876</td>\n",
              "      <td>6 miles</td>\n",
              "      <td>Juniper tree</td>\n",
              "      <td>Morning</td>\n",
              "      <td>Wood</td>\n",
              "      <td>Novel B</td>\n",
              "      <td>I'm also interested in art and enjoy a main ch...</td>\n",
              "      <td>18-24</td>\n",
              "      <td>Woman</td>\n",
              "      <td>...</td>\n",
              "      <td>NaN</td>\n",
              "      <td>NaN</td>\n",
              "      <td>NaN</td>\n",
              "      <td>NaN</td>\n",
              "      <td>W</td>\n",
              "      <td>Hike</td>\n",
              "      <td>0</td>\n",
              "      <td>Hike</td>\n",
              "      <td>0</td>\n",
              "      <td>1</td>\n",
              "    </tr>\n",
              "    <tr>\n",
              "      <th>R_1jVUjK5fbarEH9T</th>\n",
              "      <td>I consent to participate.</td>\n",
              "      <td>66352dc9534503854d9079bf</td>\n",
              "      <td>6 miles</td>\n",
              "      <td>Juniper tree</td>\n",
              "      <td>Morning</td>\n",
              "      <td>Wood</td>\n",
              "      <td>Novel A</td>\n",
              "      <td>My curiosity about the contents of the note/le...</td>\n",
              "      <td>36-45</td>\n",
              "      <td>Woman</td>\n",
              "      <td>...</td>\n",
              "      <td>NaN</td>\n",
              "      <td>NaN</td>\n",
              "      <td>NaN</td>\n",
              "      <td>NaN</td>\n",
              "      <td>W</td>\n",
              "      <td>Hike</td>\n",
              "      <td>1</td>\n",
              "      <td>Hike</td>\n",
              "      <td>1</td>\n",
              "      <td>1</td>\n",
              "    </tr>\n",
              "  </tbody>\n",
              "</table>\n",
              "<p>5 rows × 27 columns</p>\n",
              "</div>\n",
              "    <div class=\"colab-df-buttons\">\n",
              "\n",
              "  <div class=\"colab-df-container\">\n",
              "    <button class=\"colab-df-convert\" onclick=\"convertToInteractive('df-b58e69d6-59b1-499e-9a2d-acb3e69f92ec')\"\n",
              "            title=\"Convert this dataframe to an interactive table.\"\n",
              "            style=\"display:none;\">\n",
              "\n",
              "  <svg xmlns=\"http://www.w3.org/2000/svg\" height=\"24px\" viewBox=\"0 -960 960 960\">\n",
              "    <path d=\"M120-120v-720h720v720H120Zm60-500h600v-160H180v160Zm220 220h160v-160H400v160Zm0 220h160v-160H400v160ZM180-400h160v-160H180v160Zm440 0h160v-160H620v160ZM180-180h160v-160H180v160Zm440 0h160v-160H620v160Z\"/>\n",
              "  </svg>\n",
              "    </button>\n",
              "\n",
              "  <style>\n",
              "    .colab-df-container {\n",
              "      display:flex;\n",
              "      gap: 12px;\n",
              "    }\n",
              "\n",
              "    .colab-df-convert {\n",
              "      background-color: #E8F0FE;\n",
              "      border: none;\n",
              "      border-radius: 50%;\n",
              "      cursor: pointer;\n",
              "      display: none;\n",
              "      fill: #1967D2;\n",
              "      height: 32px;\n",
              "      padding: 0 0 0 0;\n",
              "      width: 32px;\n",
              "    }\n",
              "\n",
              "    .colab-df-convert:hover {\n",
              "      background-color: #E2EBFA;\n",
              "      box-shadow: 0px 1px 2px rgba(60, 64, 67, 0.3), 0px 1px 3px 1px rgba(60, 64, 67, 0.15);\n",
              "      fill: #174EA6;\n",
              "    }\n",
              "\n",
              "    .colab-df-buttons div {\n",
              "      margin-bottom: 4px;\n",
              "    }\n",
              "\n",
              "    [theme=dark] .colab-df-convert {\n",
              "      background-color: #3B4455;\n",
              "      fill: #D2E3FC;\n",
              "    }\n",
              "\n",
              "    [theme=dark] .colab-df-convert:hover {\n",
              "      background-color: #434B5C;\n",
              "      box-shadow: 0px 1px 3px 1px rgba(0, 0, 0, 0.15);\n",
              "      filter: drop-shadow(0px 1px 2px rgba(0, 0, 0, 0.3));\n",
              "      fill: #FFFFFF;\n",
              "    }\n",
              "  </style>\n",
              "\n",
              "    <script>\n",
              "      const buttonEl =\n",
              "        document.querySelector('#df-b58e69d6-59b1-499e-9a2d-acb3e69f92ec button.colab-df-convert');\n",
              "      buttonEl.style.display =\n",
              "        google.colab.kernel.accessAllowed ? 'block' : 'none';\n",
              "\n",
              "      async function convertToInteractive(key) {\n",
              "        const element = document.querySelector('#df-b58e69d6-59b1-499e-9a2d-acb3e69f92ec');\n",
              "        const dataTable =\n",
              "          await google.colab.kernel.invokeFunction('convertToInteractive',\n",
              "                                                    [key], {});\n",
              "        if (!dataTable) return;\n",
              "\n",
              "        const docLinkHtml = 'Like what you see? Visit the ' +\n",
              "          '<a target=\"_blank\" href=https://colab.research.google.com/notebooks/data_table.ipynb>data table notebook</a>'\n",
              "          + ' to learn more about interactive tables.';\n",
              "        element.innerHTML = '';\n",
              "        dataTable['output_type'] = 'display_data';\n",
              "        await google.colab.output.renderOutput(dataTable, element);\n",
              "        const docLink = document.createElement('div');\n",
              "        docLink.innerHTML = docLinkHtml;\n",
              "        element.appendChild(docLink);\n",
              "      }\n",
              "    </script>\n",
              "  </div>\n",
              "\n",
              "\n",
              "<div id=\"df-62f8ea6d-6392-406d-954e-619aa8a987ea\">\n",
              "  <button class=\"colab-df-quickchart\" onclick=\"quickchart('df-62f8ea6d-6392-406d-954e-619aa8a987ea')\"\n",
              "            title=\"Suggest charts\"\n",
              "            style=\"display:none;\">\n",
              "\n",
              "<svg xmlns=\"http://www.w3.org/2000/svg\" height=\"24px\"viewBox=\"0 0 24 24\"\n",
              "     width=\"24px\">\n",
              "    <g>\n",
              "        <path d=\"M19 3H5c-1.1 0-2 .9-2 2v14c0 1.1.9 2 2 2h14c1.1 0 2-.9 2-2V5c0-1.1-.9-2-2-2zM9 17H7v-7h2v7zm4 0h-2V7h2v10zm4 0h-2v-4h2v4z\"/>\n",
              "    </g>\n",
              "</svg>\n",
              "  </button>\n",
              "\n",
              "<style>\n",
              "  .colab-df-quickchart {\n",
              "      --bg-color: #E8F0FE;\n",
              "      --fill-color: #1967D2;\n",
              "      --hover-bg-color: #E2EBFA;\n",
              "      --hover-fill-color: #174EA6;\n",
              "      --disabled-fill-color: #AAA;\n",
              "      --disabled-bg-color: #DDD;\n",
              "  }\n",
              "\n",
              "  [theme=dark] .colab-df-quickchart {\n",
              "      --bg-color: #3B4455;\n",
              "      --fill-color: #D2E3FC;\n",
              "      --hover-bg-color: #434B5C;\n",
              "      --hover-fill-color: #FFFFFF;\n",
              "      --disabled-bg-color: #3B4455;\n",
              "      --disabled-fill-color: #666;\n",
              "  }\n",
              "\n",
              "  .colab-df-quickchart {\n",
              "    background-color: var(--bg-color);\n",
              "    border: none;\n",
              "    border-radius: 50%;\n",
              "    cursor: pointer;\n",
              "    display: none;\n",
              "    fill: var(--fill-color);\n",
              "    height: 32px;\n",
              "    padding: 0;\n",
              "    width: 32px;\n",
              "  }\n",
              "\n",
              "  .colab-df-quickchart:hover {\n",
              "    background-color: var(--hover-bg-color);\n",
              "    box-shadow: 0 1px 2px rgba(60, 64, 67, 0.3), 0 1px 3px 1px rgba(60, 64, 67, 0.15);\n",
              "    fill: var(--button-hover-fill-color);\n",
              "  }\n",
              "\n",
              "  .colab-df-quickchart-complete:disabled,\n",
              "  .colab-df-quickchart-complete:disabled:hover {\n",
              "    background-color: var(--disabled-bg-color);\n",
              "    fill: var(--disabled-fill-color);\n",
              "    box-shadow: none;\n",
              "  }\n",
              "\n",
              "  .colab-df-spinner {\n",
              "    border: 2px solid var(--fill-color);\n",
              "    border-color: transparent;\n",
              "    border-bottom-color: var(--fill-color);\n",
              "    animation:\n",
              "      spin 1s steps(1) infinite;\n",
              "  }\n",
              "\n",
              "  @keyframes spin {\n",
              "    0% {\n",
              "      border-color: transparent;\n",
              "      border-bottom-color: var(--fill-color);\n",
              "      border-left-color: var(--fill-color);\n",
              "    }\n",
              "    20% {\n",
              "      border-color: transparent;\n",
              "      border-left-color: var(--fill-color);\n",
              "      border-top-color: var(--fill-color);\n",
              "    }\n",
              "    30% {\n",
              "      border-color: transparent;\n",
              "      border-left-color: var(--fill-color);\n",
              "      border-top-color: var(--fill-color);\n",
              "      border-right-color: var(--fill-color);\n",
              "    }\n",
              "    40% {\n",
              "      border-color: transparent;\n",
              "      border-right-color: var(--fill-color);\n",
              "      border-top-color: var(--fill-color);\n",
              "    }\n",
              "    60% {\n",
              "      border-color: transparent;\n",
              "      border-right-color: var(--fill-color);\n",
              "    }\n",
              "    80% {\n",
              "      border-color: transparent;\n",
              "      border-right-color: var(--fill-color);\n",
              "      border-bottom-color: var(--fill-color);\n",
              "    }\n",
              "    90% {\n",
              "      border-color: transparent;\n",
              "      border-bottom-color: var(--fill-color);\n",
              "    }\n",
              "  }\n",
              "</style>\n",
              "\n",
              "  <script>\n",
              "    async function quickchart(key) {\n",
              "      const quickchartButtonEl =\n",
              "        document.querySelector('#' + key + ' button');\n",
              "      quickchartButtonEl.disabled = true;  // To prevent multiple clicks.\n",
              "      quickchartButtonEl.classList.add('colab-df-spinner');\n",
              "      try {\n",
              "        const charts = await google.colab.kernel.invokeFunction(\n",
              "            'suggestCharts', [key], {});\n",
              "      } catch (error) {\n",
              "        console.error('Error during call to suggestCharts:', error);\n",
              "      }\n",
              "      quickchartButtonEl.classList.remove('colab-df-spinner');\n",
              "      quickchartButtonEl.classList.add('colab-df-quickchart-complete');\n",
              "    }\n",
              "    (() => {\n",
              "      let quickchartButtonEl =\n",
              "        document.querySelector('#df-62f8ea6d-6392-406d-954e-619aa8a987ea button');\n",
              "      quickchartButtonEl.style.display =\n",
              "        google.colab.kernel.accessAllowed ? 'block' : 'none';\n",
              "    })();\n",
              "  </script>\n",
              "</div>\n",
              "\n",
              "    </div>\n",
              "  </div>\n"
            ],
            "application/vnd.google.colaboratory.intrinsic+json": {
              "type": "dataframe",
              "variable_name": "public"
            }
          },
          "metadata": {},
          "execution_count": 18
        }
      ]
    },
    {
      "cell_type": "code",
      "source": [
        "plt.figure(figsize=(5, 5))\n",
        "ax = sns.barplot(clean, x=\"gender\", y=\"chose_hike\", order=['Woman', 'Man'], hue='Treatment A', errorbar=('ci', 95))\n",
        "ax.set_ylim(0.5, 1)\n",
        "ax.grid(color='grey', axis='y', linestyle='-', linewidth=0.25, alpha=0.5)\n",
        "ax.spines['top'].set_visible(False)\n",
        "ax.spines['right'].set_visible(False)\n",
        "\n",
        "handles, labels = ax.get_legend_handles_labels()\n",
        "ax.legend(handles=handles, labels=['woman protagonist',\n",
        "                                   'man protagonist'], title='Treatment: Hike Story has a')\n",
        "\n",
        "for p in ax.patches:\n",
        "  height = p.get_height()\n",
        "  if height > 0.5:\n",
        "    ax.text(p.get_x() + p.get_width() / 2., 0.52, f'{int(round(height, 2) * 100)}%', ha='center', va='center', color='white', fontsize=20)\n",
        "\n",
        "\n",
        "plt.xlabel('Respondent Gender')\n",
        "plt.ylabel('Probability of Choosing Hike Story')#(r' $\\hat{\\pi}$ ', rotation=0)\n",
        "plt.savefig(os.path.join('/content/drive/MyDrive/char_gender/figures/', f'pihats.png'), dpi = 300)\n",
        "plt.show()"
      ],
      "metadata": {
        "colab": {
          "base_uri": "https://localhost:8080/",
          "height": 470
        },
        "id": "qrJnaA6xgd69",
        "outputId": "2c3be674-9f36-4d32-cd21-d1b57d654ba1"
      },
      "execution_count": null,
      "outputs": [
        {
          "output_type": "display_data",
          "data": {
            "text/plain": [
              "<Figure size 500x500 with 1 Axes>"
            ],
            "image/png": "[encoded data removed]"
          },
          "metadata": {}
        }
      ]
    },
    {
      "cell_type": "code",
      "source": [
        "dicts = []\n",
        "for gender in ['Woman', 'Man']:\n",
        "\n",
        "  # print(gender.upper())\n",
        "  subgroup = clean[clean['gender'] == gender].copy()\n",
        "  pihat1 = np.mean(subgroup[subgroup['Treatment A'] == 'Hike']['chose_hike'])\n",
        "  pivar1 = pihat1 * (1 - pihat1)/len(subgroup[subgroup['Treatment A'] == 'Hike'])\n",
        "\n",
        "  pihat0 = np.mean(subgroup[subgroup['Treatment A'] == 'Other']['chose_hike'])\n",
        "  pivar0 = pihat0 * (1 - pihat0)/len(subgroup[subgroup['Treatment A'] == 'Other'])\n",
        "\n",
        "  effect = pihat1-pihat0\n",
        "  effect_var = pivar1+pivar0\n",
        "  effect_se = np.sqrt(effect_var)\n",
        "\n",
        "  cimin = effect - stats.norm.ppf(.975)*effect_se\n",
        "  cimax = effect + stats.norm.ppf(.975)*effect_se\n",
        "  d = {'Respondent Gender': gender,\n",
        "       'effect': effect,\n",
        "       'cimin': cimin,\n",
        "       'cimax': cimax}\n",
        "  dicts.append(d)\n",
        "\n",
        "  # print(f'pi hat1 {pi_hat1}', f'pi hat0 {pi_hat0}', f'pi hat {pi_hat}')\n",
        "#print(f'Average treatment effect: {np.average(effects, weights=weights)}')"
      ],
      "metadata": {
        "id": "3gtbOG2sX3nN"
      },
      "execution_count": null,
      "outputs": []
    },
    {
      "cell_type": "code",
      "source": [
        "df = pd.DataFrame(dicts)\n",
        "df"
      ],
      "metadata": {
        "colab": {
          "base_uri": "https://localhost:8080/",
          "height": 125
        },
        "id": "Pi5dSYHRXgEt",
        "outputId": "a9a62301-fe7a-4310-8538-5fbdb1520ef8"
      },
      "execution_count": null,
      "outputs": [
        {
          "output_type": "execute_result",
          "data": {
            "text/plain": [
              "  Respondent Gender    effect     cimin     cimax\n",
              "0             Woman  0.061584  0.016927  0.106240\n",
              "1               Man  0.007931 -0.035845  0.051707"
            ],
            "text/html": [
              "\n",
              "  <div id=\"df-1f8149a8-ea02-4680-82ad-0ff6577d9d49\" class=\"colab-df-container\">\n",
              "    <div>\n",
              "<style scoped>\n",
              "    .dataframe tbody tr th:only-of-type {\n",
              "        vertical-align: middle;\n",
              "    }\n",
              "\n",
              "    .dataframe tbody tr th {\n",
              "        vertical-align: top;\n",
              "    }\n",
              "\n",
              "    .dataframe thead th {\n",
              "        text-align: right;\n",
              "    }\n",
              "</style>\n",
              "<table border=\"1\" class=\"dataframe\">\n",
              "  <thead>\n",
              "    <tr style=\"text-align: right;\">\n",
              "      <th></th>\n",
              "      <th>Respondent Gender</th>\n",
              "      <th>effect</th>\n",
              "      <th>cimin</th>\n",
              "      <th>cimax</th>\n",
              "    </tr>\n",
              "  </thead>\n",
              "  <tbody>\n",
              "    <tr>\n",
              "      <th>0</th>\n",
              "      <td>Woman</td>\n",
              "      <td>0.061584</td>\n",
              "      <td>0.016927</td>\n",
              "      <td>0.106240</td>\n",
              "    </tr>\n",
              "    <tr>\n",
              "      <th>1</th>\n",
              "      <td>Man</td>\n",
              "      <td>0.007931</td>\n",
              "      <td>-0.035845</td>\n",
              "      <td>0.051707</td>\n",
              "    </tr>\n",
              "  </tbody>\n",
              "</table>\n",
              "</div>\n",
              "    <div class=\"colab-df-buttons\">\n",
              "\n",
              "  <div class=\"colab-df-container\">\n",
              "    <button class=\"colab-df-convert\" onclick=\"convertToInteractive('df-1f8149a8-ea02-4680-82ad-0ff6577d9d49')\"\n",
              "            title=\"Convert this dataframe to an interactive table.\"\n",
              "            style=\"display:none;\">\n",
              "\n",
              "  <svg xmlns=\"http://www.w3.org/2000/svg\" height=\"24px\" viewBox=\"0 -960 960 960\">\n",
              "    <path d=\"M120-120v-720h720v720H120Zm60-500h600v-160H180v160Zm220 220h160v-160H400v160Zm0 220h160v-160H400v160ZM180-400h160v-160H180v160Zm440 0h160v-160H620v160ZM180-180h160v-160H180v160Zm440 0h160v-160H620v160Z\"/>\n",
              "  </svg>\n",
              "    </button>\n",
              "\n",
              "  <style>\n",
              "    .colab-df-container {\n",
              "      display:flex;\n",
              "      gap: 12px;\n",
              "    }\n",
              "\n",
              "    .colab-df-convert {\n",
              "      background-color: #E8F0FE;\n",
              "      border: none;\n",
              "      border-radius: 50%;\n",
              "      cursor: pointer;\n",
              "      display: none;\n",
              "      fill: #1967D2;\n",
              "      height: 32px;\n",
              "      padding: 0 0 0 0;\n",
              "      width: 32px;\n",
              "    }\n",
              "\n",
              "    .colab-df-convert:hover {\n",
              "      background-color: #E2EBFA;\n",
              "      box-shadow: 0px 1px 2px rgba(60, 64, 67, 0.3), 0px 1px 3px 1px rgba(60, 64, 67, 0.15);\n",
              "      fill: #174EA6;\n",
              "    }\n",
              "\n",
              "    .colab-df-buttons div {\n",
              "      margin-bottom: 4px;\n",
              "    }\n",
              "\n",
              "    [theme=dark] .colab-df-convert {\n",
              "      background-color: #3B4455;\n",
              "      fill: #D2E3FC;\n",
              "    }\n",
              "\n",
              "    [theme=dark] .colab-df-convert:hover {\n",
              "      background-color: #434B5C;\n",
              "      box-shadow: 0px 1px 3px 1px rgba(0, 0, 0, 0.15);\n",
              "      filter: drop-shadow(0px 1px 2px rgba(0, 0, 0, 0.3));\n",
              "      fill: #FFFFFF;\n",
              "    }\n",
              "  </style>\n",
              "\n",
              "    <script>\n",
              "      const buttonEl =\n",
              "        document.querySelector('#df-1f8149a8-ea02-4680-82ad-0ff6577d9d49 button.colab-df-convert');\n",
              "      buttonEl.style.display =\n",
              "        google.colab.kernel.accessAllowed ? 'block' : 'none';\n",
              "\n",
              "      async function convertToInteractive(key) {\n",
              "        const element = document.querySelector('#df-1f8149a8-ea02-4680-82ad-0ff6577d9d49');\n",
              "        const dataTable =\n",
              "          await google.colab.kernel.invokeFunction('convertToInteractive',\n",
              "                                                    [key], {});\n",
              "        if (!dataTable) return;\n",
              "\n",
              "        const docLinkHtml = 'Like what you see? Visit the ' +\n",
              "          '<a target=\"_blank\" href=https://colab.research.google.com/notebooks/data_table.ipynb>data table notebook</a>'\n",
              "          + ' to learn more about interactive tables.';\n",
              "        element.innerHTML = '';\n",
              "        dataTable['output_type'] = 'display_data';\n",
              "        await google.colab.output.renderOutput(dataTable, element);\n",
              "        const docLink = document.createElement('div');\n",
              "        docLink.innerHTML = docLinkHtml;\n",
              "        element.appendChild(docLink);\n",
              "      }\n",
              "    </script>\n",
              "  </div>\n",
              "\n",
              "\n",
              "<div id=\"df-6650851d-0c94-48bc-b8e2-1e0205eb5d47\">\n",
              "  <button class=\"colab-df-quickchart\" onclick=\"quickchart('df-6650851d-0c94-48bc-b8e2-1e0205eb5d47')\"\n",
              "            title=\"Suggest charts\"\n",
              "            style=\"display:none;\">\n",
              "\n",
              "<svg xmlns=\"http://www.w3.org/2000/svg\" height=\"24px\"viewBox=\"0 0 24 24\"\n",
              "     width=\"24px\">\n",
              "    <g>\n",
              "        <path d=\"M19 3H5c-1.1 0-2 .9-2 2v14c0 1.1.9 2 2 2h14c1.1 0 2-.9 2-2V5c0-1.1-.9-2-2-2zM9 17H7v-7h2v7zm4 0h-2V7h2v10zm4 0h-2v-4h2v4z\"/>\n",
              "    </g>\n",
              "</svg>\n",
              "  </button>\n",
              "\n",
              "<style>\n",
              "  .colab-df-quickchart {\n",
              "      --bg-color: #E8F0FE;\n",
              "      --fill-color: #1967D2;\n",
              "      --hover-bg-color: #E2EBFA;\n",
              "      --hover-fill-color: #174EA6;\n",
              "      --disabled-fill-color: #AAA;\n",
              "      --disabled-bg-color: #DDD;\n",
              "  }\n",
              "\n",
              "  [theme=dark] .colab-df-quickchart {\n",
              "      --bg-color: #3B4455;\n",
              "      --fill-color: #D2E3FC;\n",
              "      --hover-bg-color: #434B5C;\n",
              "      --hover-fill-color: #FFFFFF;\n",
              "      --disabled-bg-color: #3B4455;\n",
              "      --disabled-fill-color: #666;\n",
              "  }\n",
              "\n",
              "  .colab-df-quickchart {\n",
              "    background-color: var(--bg-color);\n",
              "    border: none;\n",
              "    border-radius: 50%;\n",
              "    cursor: pointer;\n",
              "    display: none;\n",
              "    fill: var(--fill-color);\n",
              "    height: 32px;\n",
              "    padding: 0;\n",
              "    width: 32px;\n",
              "  }\n",
              "\n",
              "  .colab-df-quickchart:hover {\n",
              "    background-color: var(--hover-bg-color);\n",
              "    box-shadow: 0 1px 2px rgba(60, 64, 67, 0.3), 0 1px 3px 1px rgba(60, 64, 67, 0.15);\n",
              "    fill: var(--button-hover-fill-color);\n",
              "  }\n",
              "\n",
              "  .colab-df-quickchart-complete:disabled,\n",
              "  .colab-df-quickchart-complete:disabled:hover {\n",
              "    background-color: var(--disabled-bg-color);\n",
              "    fill: var(--disabled-fill-color);\n",
              "    box-shadow: none;\n",
              "  }\n",
              "\n",
              "  .colab-df-spinner {\n",
              "    border: 2px solid var(--fill-color);\n",
              "    border-color: transparent;\n",
              "    border-bottom-color: var(--fill-color);\n",
              "    animation:\n",
              "      spin 1s steps(1) infinite;\n",
              "  }\n",
              "\n",
              "  @keyframes spin {\n",
              "    0% {\n",
              "      border-color: transparent;\n",
              "      border-bottom-color: var(--fill-color);\n",
              "      border-left-color: var(--fill-color);\n",
              "    }\n",
              "    20% {\n",
              "      border-color: transparent;\n",
              "      border-left-color: var(--fill-color);\n",
              "      border-top-color: var(--fill-color);\n",
              "    }\n",
              "    30% {\n",
              "      border-color: transparent;\n",
              "      border-left-color: var(--fill-color);\n",
              "      border-top-color: var(--fill-color);\n",
              "      border-right-color: var(--fill-color);\n",
              "    }\n",
              "    40% {\n",
              "      border-color: transparent;\n",
              "      border-right-color: var(--fill-color);\n",
              "      border-top-color: var(--fill-color);\n",
              "    }\n",
              "    60% {\n",
              "      border-color: transparent;\n",
              "      border-right-color: var(--fill-color);\n",
              "    }\n",
              "    80% {\n",
              "      border-color: transparent;\n",
              "      border-right-color: var(--fill-color);\n",
              "      border-bottom-color: var(--fill-color);\n",
              "    }\n",
              "    90% {\n",
              "      border-color: transparent;\n",
              "      border-bottom-color: var(--fill-color);\n",
              "    }\n",
              "  }\n",
              "</style>\n",
              "\n",
              "  <script>\n",
              "    async function quickchart(key) {\n",
              "      const quickchartButtonEl =\n",
              "        document.querySelector('#' + key + ' button');\n",
              "      quickchartButtonEl.disabled = true;  // To prevent multiple clicks.\n",
              "      quickchartButtonEl.classList.add('colab-df-spinner');\n",
              "      try {\n",
              "        const charts = await google.colab.kernel.invokeFunction(\n",
              "            'suggestCharts', [key], {});\n",
              "      } catch (error) {\n",
              "        console.error('Error during call to suggestCharts:', error);\n",
              "      }\n",
              "      quickchartButtonEl.classList.remove('colab-df-spinner');\n",
              "      quickchartButtonEl.classList.add('colab-df-quickchart-complete');\n",
              "    }\n",
              "    (() => {\n",
              "      let quickchartButtonEl =\n",
              "        document.querySelector('#df-6650851d-0c94-48bc-b8e2-1e0205eb5d47 button');\n",
              "      quickchartButtonEl.style.display =\n",
              "        google.colab.kernel.accessAllowed ? 'block' : 'none';\n",
              "    })();\n",
              "  </script>\n",
              "</div>\n",
              "\n",
              "  <div id=\"id_848931c3-eba4-4818-b946-df74c66380be\">\n",
              "    <style>\n",
              "      .colab-df-generate {\n",
              "        background-color: #E8F0FE;\n",
              "        border: none;\n",
              "        border-radius: 50%;\n",
              "        cursor: pointer;\n",
              "        display: none;\n",
              "        fill: #1967D2;\n",
              "        height: 32px;\n",
              "        padding: 0 0 0 0;\n",
              "        width: 32px;\n",
              "      }\n",
              "\n",
              "      .colab-df-generate:hover {\n",
              "        background-color: #E2EBFA;\n",
              "        box-shadow: 0px 1px 2px rgba(60, 64, 67, 0.3), 0px 1px 3px 1px rgba(60, 64, 67, 0.15);\n",
              "        fill: #174EA6;\n",
              "      }\n",
              "\n",
              "      [theme=dark] .colab-df-generate {\n",
              "        background-color: #3B4455;\n",
              "        fill: #D2E3FC;\n",
              "      }\n",
              "\n",
              "      [theme=dark] .colab-df-generate:hover {\n",
              "        background-color: #434B5C;\n",
              "        box-shadow: 0px 1px 3px 1px rgba(0, 0, 0, 0.15);\n",
              "        filter: drop-shadow(0px 1px 2px rgba(0, 0, 0, 0.3));\n",
              "        fill: #FFFFFF;\n",
              "      }\n",
              "    </style>\n",
              "    <button class=\"colab-df-generate\" onclick=\"generateWithVariable('df')\"\n",
              "            title=\"Generate code using this dataframe.\"\n",
              "            style=\"display:none;\">\n",
              "\n",
              "  <svg xmlns=\"http://www.w3.org/2000/svg\" height=\"24px\"viewBox=\"0 0 24 24\"\n",
              "       width=\"24px\">\n",
              "    <path d=\"M7,19H8.4L18.45,9,17,7.55,7,17.6ZM5,21V16.75L18.45,3.32a2,2,0,0,1,2.83,0l1.4,1.43a1.91,1.91,0,0,1,.58,1.4,1.91,1.91,0,0,1-.58,1.4L9.25,21ZM18.45,9,17,7.55Zm-12,3A5.31,5.31,0,0,0,4.9,8.1,5.31,5.31,0,0,0,1,6.5,5.31,5.31,0,0,0,4.9,4.9,5.31,5.31,0,0,0,6.5,1,5.31,5.31,0,0,0,8.1,4.9,5.31,5.31,0,0,0,12,6.5,5.46,5.46,0,0,0,6.5,12Z\"/>\n",
              "  </svg>\n",
              "    </button>\n",
              "    <script>\n",
              "      (() => {\n",
              "      const buttonEl =\n",
              "        document.querySelector('#id_848931c3-eba4-4818-b946-df74c66380be button.colab-df-generate');\n",
              "      buttonEl.style.display =\n",
              "        google.colab.kernel.accessAllowed ? 'block' : 'none';\n",
              "\n",
              "      buttonEl.onclick = () => {\n",
              "        google.colab.notebook.generateWithVariable('df');\n",
              "      }\n",
              "      })();\n",
              "    </script>\n",
              "  </div>\n",
              "\n",
              "    </div>\n",
              "  </div>\n"
            ],
            "application/vnd.google.colaboratory.intrinsic+json": {
              "type": "dataframe",
              "variable_name": "df",
              "summary": "{\n  \"name\": \"df\",\n  \"rows\": 2,\n  \"fields\": [\n    {\n      \"column\": \"Respondent Gender\",\n      \"properties\": {\n        \"dtype\": \"string\",\n        \"num_unique_values\": 2,\n        \"samples\": [\n          \"Man\",\n          \"Woman\"\n        ],\n        \"semantic_type\": \"\",\n        \"description\": \"\"\n      }\n    },\n    {\n      \"column\": \"effect\",\n      \"properties\": {\n        \"dtype\": \"number\",\n        \"std\": 0.037938169377452514,\n        \"min\": 0.007930904047408927,\n        \"max\": 0.061583577712609916,\n        \"num_unique_values\": 2,\n        \"samples\": [\n          0.007930904047408927,\n          0.061583577712609916\n        ],\n        \"semantic_type\": \"\",\n        \"description\": \"\"\n      }\n    },\n    {\n      \"column\": \"cimin\",\n      \"properties\": {\n        \"dtype\": \"number\",\n        \"std\": 0.03731593271327247,\n        \"min\": -0.03584522924414355,\n        \"max\": 0.01692746889156823,\n        \"num_unique_values\": 2,\n        \"samples\": [\n          -0.03584522924414355,\n          0.01692746889156823\n        ],\n        \"semantic_type\": \"\",\n        \"description\": \"\"\n      }\n    },\n    {\n      \"column\": \"cimax\",\n      \"properties\": {\n        \"dtype\": \"number\",\n        \"std\": 0.03856040604163255,\n        \"min\": 0.051707037338961405,\n        \"max\": 0.1062396865336516,\n        \"num_unique_values\": 2,\n        \"samples\": [\n          0.051707037338961405,\n          0.1062396865336516\n        ],\n        \"semantic_type\": \"\",\n        \"description\": \"\"\n      }\n    }\n  ]\n}"
            }
          },
          "metadata": {},
          "execution_count": 15
        }
      ]
    },
    {
      "cell_type": "code",
      "source": [
        "df['effect'].values"
      ],
      "metadata": {
        "colab": {
          "base_uri": "https://localhost:8080/"
        },
        "id": "LFdKtQ18pE7o",
        "outputId": "d25d6f91-db1c-4167-b024-6bf1cb7b4f1a"
      },
      "execution_count": null,
      "outputs": [
        {
          "output_type": "execute_result",
          "data": {
            "text/plain": [
              "array([0.06158358, 0.0079309 ])"
            ]
          },
          "metadata": {},
          "execution_count": 16
        }
      ]
    },
    {
      "cell_type": "code",
      "source": [
        "plt.figure(figsize=(3, 3))\n",
        "plt.xlim(0,2)\n",
        "plt.ylim(-0.1, 0.1)\n",
        "plt.grid(color='grey', axis='y', linestyle='-', linewidth=0.25, alpha=0.5)\n",
        "for pos in ['top', 'right']:\n",
        "    plt.gca().spines[pos].set_visible(False)\n",
        "\n",
        "asymmetric_errors = []\n",
        "for index, row in df.iterrows():\n",
        "  asymmetric_errors.append([row['effect'] - row['cimin'], row['cimax'] - row['effect']])\n",
        "plt.errorbar([0.5,1.5], df['effect'].values, yerr=asymmetric_errors, color='black', fmt='o')\n",
        "\n",
        "for x, y in zip([0.6, 1.6], df['effect'].values):\n",
        "  plt.text(x+0.01, y, f'{round(y, 3)}%', ha='left', va='bottom', fontsize=10, color='black')\n",
        "\n",
        "plt.xticks([0.5, 1.5], labels=['Woman', 'Man'])\n",
        "plt.yticks(np.arange(-0.1, 0.11, step=0.05))\n",
        "for y in np.arange(-0.1, 0.11, step=0.025):\n",
        "    plt.axhline(y=y, color='grey', linestyle='-', linewidth=0.25, alpha=0.2)\n",
        "\n",
        "plt.axhline(y=0, color='black', linestyle='-', linewidth=0.5)\n",
        "\n",
        "plt.xlabel('Respondent Gender', labelpad = 8)\n",
        "plt.ylabel('Effect of Protagonist Gender\\n(Woman - Man)\\non Reader Preferences')\n",
        "plt.title('Conditional Average\\nTreatment Effect', pad=20)\n",
        "plt.savefig(os.path.join('/content/drive/MyDrive/char_gender/figures/', f'cate.png'), dpi = 300, bbox_inches = \"tight\")\n",
        "plt.show()"
      ],
      "metadata": {
        "colab": {
          "base_uri": "https://localhost:8080/",
          "height": 379
        },
        "id": "snhedz-wn4d0",
        "outputId": "a5a6dfd9-9574-4040-e9d2-a32fdc289680"
      },
      "execution_count": null,
      "outputs": [
        {
          "output_type": "display_data",
          "data": {
            "text/plain": [
              "<Figure size 300x300 with 1 Axes>"
            ],
            "image/png": "[encoded data removed]"
          },
          "metadata": {}
        }
      ]
    },
    {
      "cell_type": "markdown",
      "source": [
        "## Bootstrapping"
      ],
      "metadata": {
        "id": "-RP6pX5KXeu_"
      }
    },
    {
      "cell_type": "code",
      "source": [
        "# Bootstrap calculations\n",
        "trials = 1000\n",
        "\n",
        "bootstrapped_ate = []\n",
        "bootstrapped_pihat = {'Woman': [],\n",
        "                      'Man': []}\n",
        "\n",
        "for i in range(trials):\n",
        "\n",
        "  effects = []\n",
        "  weights = []\n",
        "\n",
        "  for gender in ['Woman', 'Man']:\n",
        "\n",
        "    subgroup = clean[clean['gender'] == gender].copy()\n",
        "\n",
        "    A1 = subgroup[subgroup['hike_woman'] == 1]\n",
        "    k = len(A1)\n",
        "    A1_sample = A1.sample(n=k, replace=True)\n",
        "\n",
        "    A2 = subgroup[subgroup['hike_woman'] == 0]\n",
        "    k = len(A2)\n",
        "    A2_sample = A2.sample(n=k, replace=True)\n",
        "\n",
        "    pi_hat1 =  np.mean(A1_sample['chose_hike'])\n",
        "    pi_hat0 =  np.mean(A2_sample['chose_hike'])\n",
        "    pi_hat = pi_hat1-pi_hat0\n",
        "\n",
        "    bootstrapped_pihat[gender].append(pi_hat)\n",
        "    effects.append(pi_hat)\n",
        "    weights.append(len(subgroup))\n",
        "\n",
        "  average_effect = np.average(effects, weights=weights)\n",
        "  bootstrapped_ate.append(average_effect)"
      ],
      "metadata": {
        "id": "19WeyMRDsTC8"
      },
      "execution_count": null,
      "outputs": []
    },
    {
      "cell_type": "code",
      "source": [
        "def calculate_CI(bootstrapped):\n",
        "\n",
        "  sort = sorted(bootstrapped)\n",
        "  low = round(sort[int(trials*0.025)], 5)\n",
        "  high = round(sort[int(trials*0.975)], 5)\n",
        "\n",
        "  return low, high"
      ],
      "metadata": {
        "id": "GuGZN_qTwOy4"
      },
      "execution_count": null,
      "outputs": []
    },
    {
      "cell_type": "code",
      "source": [
        "for k, v in bootstrapped_pihat.items():\n",
        "  print(f'{len(v)} Bootstrapped pihat for {k}: {calculate_CI(v)}')"
      ],
      "metadata": {
        "colab": {
          "base_uri": "https://localhost:8080/"
        },
        "id": "qNa4IrDqx-65",
        "outputId": "221f1479-186b-4a86-f159-f140a3c0ef78"
      },
      "execution_count": null,
      "outputs": [
        {
          "output_type": "stream",
          "name": "stdout",
          "text": [
            "1000 Bootstrapped pihat for Woman: (0.01739, 0.10575)\n",
            "1000 Bootstrapped pihat for Man: (-0.03374, 0.05557)\n"
          ]
        }
      ]
    },
    {
      "cell_type": "code",
      "source": [
        "print(f'{len(bootstrapped_ate)} Bootstrapped average treatment effects: {calculate_CI(bootstrapped_ate)}')"
      ],
      "metadata": {
        "colab": {
          "base_uri": "https://localhost:8080/"
        },
        "id": "VhxZrUMEx8JX",
        "outputId": "54b49450-4ec4-4026-9bf0-88795d54e586"
      },
      "execution_count": null,
      "outputs": [
        {
          "output_type": "stream",
          "name": "stdout",
          "text": [
            "1000 Bootstrapped average treatment effects: (0.00328, 0.06401)\n"
          ]
        }
      ]
    },
    {
      "cell_type": "code",
      "source": [],
      "metadata": {
        "id": "YI-AkItey9Us"
      },
      "execution_count": null,
      "outputs": []
    }
  ]
}