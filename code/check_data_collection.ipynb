{
  "nbformat": 4,
  "nbformat_minor": 0,
  "metadata": {
    "colab": {
      "provenance": [],
      "collapsed_sections": [
        "sczPmu5GPuR_",
        "Mk8fHdqFP0_9",
        "0vdHhPAnjGdz"
      ]
    },
    "kernelspec": {
      "name": "python3",
      "display_name": "Python 3"
    },
    "language_info": {
      "name": "python"
    }
  },
  "cells": [
    {
      "cell_type": "code",
      "execution_count": 1,
      "metadata": {
        "id": "-LPFi95Dvibo"
      },
      "outputs": [],
      "source": [
        "import os\n",
        "import datetime\n",
        "import glob\n",
        "import csv\n",
        "import math\n",
        "import numpy as np\n",
        "import pandas as pd\n",
        "from google.colab import drive, files\n",
        "\n",
        "# File locations\n",
        "dir = '/content/drive/MyDrive/char_gender/'\n",
        "data_dir = os.path.join(dir, 'data')"
      ]
    },
    {
      "cell_type": "code",
      "source": [
        "drive.mount('/content/drive')"
      ],
      "metadata": {
        "colab": {
          "base_uri": "https://localhost:8080/"
        },
        "id": "ZHKSALGYw394",
        "outputId": "76bf6114-a71e-419e-a522-3faedd24d53d"
      },
      "execution_count": 2,
      "outputs": [
        {
          "output_type": "stream",
          "name": "stdout",
          "text": [
            "Mounted at /content/drive\n"
          ]
        }
      ]
    },
    {
      "cell_type": "code",
      "source": [
        "qualtrics_clean = pd.read_csv(os.path.join(data_dir, 'char_gender_final.csv'), header=1).iloc[1:].rename(columns={'Recorded Date': 'date',\n",
        "                                            'If you agree to these conditions, please click \"I consent to participate\" below. If you do not agree, click the “I do not consent to participate” option.\\n\\nBy agreeing to participate, you confirm that you are over 18 years of age.\\n\\n \\n\\nI have read the above information.':'consent',\n",
        "                                            'Your gender - Selected Choice':'gender',\n",
        "                                            'Suppose you had both novels in your hand. Which one would you continue reading?': 'chosen_story'})\n",
        "len(qualtrics_clean)"
      ],
      "metadata": {
        "id": "QvLxDQsWvqLW",
        "colab": {
          "base_uri": "https://localhost:8080/"
        },
        "outputId": "cd80e3b0-3ae7-4fc0-b6e6-287a04f3109f"
      },
      "execution_count": 3,
      "outputs": [
        {
          "output_type": "execute_result",
          "data": {
            "text/plain": [
              "3508"
            ]
          },
          "metadata": {},
          "execution_count": 3
        }
      ]
    },
    {
      "cell_type": "code",
      "source": [
        "prolific_w = pd.read_csv(os.path.join(data_dir, 'prolific_export_women.csv'))[['Participant id', 'Status', 'Started at']]\n",
        "print(len(prolific_w))\n",
        "prolific_m = pd.read_csv(os.path.join(data_dir, 'prolific_export_men.csv'))[['Participant id', 'Status', 'Started at']]\n",
        "print(len(prolific_m))"
      ],
      "metadata": {
        "colab": {
          "base_uri": "https://localhost:8080/"
        },
        "id": "iisI2AuIPFdF",
        "outputId": "e6244205-2b68-4e26-9e87-9644d7c0598d"
      },
      "execution_count": 4,
      "outputs": [
        {
          "output_type": "stream",
          "name": "stdout",
          "text": [
            "1578\n",
            "1605\n"
          ]
        }
      ]
    },
    {
      "cell_type": "code",
      "source": [
        "proqual_w = prolific_w.merge(right=qualtrics_clean, left_on='Participant id', right_on='PROLIFIC_PID')\n",
        "print(len(proqual_w))"
      ],
      "metadata": {
        "colab": {
          "base_uri": "https://localhost:8080/"
        },
        "id": "vSskkB6yKWZ1",
        "outputId": "3ab53cf0-16b4-4ebd-803e-0f85f98f75a0"
      },
      "execution_count": 5,
      "outputs": [
        {
          "output_type": "stream",
          "name": "stdout",
          "text": [
            "1557\n"
          ]
        }
      ]
    },
    {
      "cell_type": "code",
      "source": [
        "proqual_m = prolific_m.merge(right=qualtrics_clean, left_on='Participant id', right_on='PROLIFIC_PID')\n",
        "len(proqual_m)"
      ],
      "metadata": {
        "colab": {
          "base_uri": "https://localhost:8080/"
        },
        "id": "QhGKI3SkLAEe",
        "outputId": "b7c36d28-1756-4719-d299-09e63e4a1e8c"
      },
      "execution_count": 6,
      "outputs": [
        {
          "output_type": "execute_result",
          "data": {
            "text/plain": [
              "1589"
            ]
          },
          "metadata": {},
          "execution_count": 6
        }
      ]
    },
    {
      "cell_type": "code",
      "source": [
        "def recent(_row):\n",
        "\n",
        "  if '2024-05' in _row['date'] and int(_row['date'].split('-')[2][:2]) > 16:\n",
        "\n",
        "    return True"
      ],
      "metadata": {
        "id": "gvJcZoe-avOx"
      },
      "execution_count": 7,
      "outputs": []
    },
    {
      "cell_type": "code",
      "source": [
        "def complete(_row):\n",
        "\n",
        "  if not pd.isna(_row['chosen_story']) and not pd.isna(_row['gender']):\n",
        "\n",
        "    return True"
      ],
      "metadata": {
        "id": "8JKzf8mMYPVH"
      },
      "execution_count": 8,
      "outputs": []
    },
    {
      "cell_type": "code",
      "source": [
        "def correct(_row):\n",
        "\n",
        "  cond_hike = (_row['In Novel A, how long is the trail that Sam takes?'] == '6 miles') and (_row['In Novel A, what plant does Sam rest against?'] == 'Juniper tree') and (_row['In Novel B, when does Alex go to the cafe?'] == 'Morning') and (_row['In Novel B, what is the material of the chair Alex sketches?'] == 'Wood')\n",
        "  cond_coffee = (_row['In Novel B, how long is the trail that Sam takes?'] == '6 miles') and (_row['In Novel B, what plant does Sam rest against?'] == 'Juniper tree') and (_row['In Novel A, when does Alex go to the cafe?'] == 'Morning') and (_row['In Novel A, what is the material of the chair Alex sketches?'] == 'Wood')\n",
        "\n",
        "  if cond_hike or cond_coffee:\n",
        "\n",
        "    return True"
      ],
      "metadata": {
        "id": "I8aPl0pWbILq"
      },
      "execution_count": 9,
      "outputs": []
    },
    {
      "cell_type": "code",
      "source": [
        "# def check_incomplete_or_incorrect(row):\n",
        "\n",
        "#   recent = '2024-05' in row['date'] and int(row['date'].split('-')[2][:2]) > 16\n",
        "\n",
        "#   cond_hike2 = (row['In Novel A, how long is the trail that Sam takes?'] != '6 miles') or (row['In Novel A, what plant does Sam rest against?'] != 'Juniper tree') or (row['In Novel B, when does Alex go to the cafe?'] != 'Morning') or (row['In Novel B, what is the material of the chair Alex sketches?'] != 'Wood')\n",
        "#   cond_coffee2 = (row['In Novel B, how long is the trail that Sam takes?'] != '6 miles') or (row['In Novel B, what plant does Sam rest against?'] != 'Juniper tree') or (row['In Novel A, when does Alex go to the cafe?'] != 'Morning') or (row['In Novel A, what is the material of the chair Alex sketches?'] != 'Wood')\n",
        "#   incorrect = cond_hike2 or cond_coffee2\n",
        "\n",
        "#   incomplete = pd.isna(row['chosen_story']) or pd.isna(row['gender'])\n",
        "\n",
        "#   if recent and incomplete and incorrect:\n",
        "\n",
        "#     return True"
      ],
      "metadata": {
        "id": "Il_ALkngYkqQ"
      },
      "execution_count": 10,
      "outputs": []
    },
    {
      "cell_type": "markdown",
      "source": [
        "# Prolific check"
      ],
      "metadata": {
        "id": "TKGqm2c6enbM"
      }
    },
    {
      "cell_type": "markdown",
      "source": [
        "#### Check proportion of treatments"
      ],
      "metadata": {
        "id": "oOZATlNQOKEl"
      }
    },
    {
      "cell_type": "code",
      "source": [
        "def check_treatments(df, extra_cond):\n",
        "\n",
        "  H = 0\n",
        "  C = 0\n",
        "  W = 0\n",
        "  M = 0\n",
        "  H_W = 0\n",
        "  H_M = 0\n",
        "  C_W = 0\n",
        "  C_M = 0\n",
        "\n",
        "  for index, row in qualtrics_clean.iterrows():\n",
        "\n",
        "      if row['First Story'] == 'Hike':\n",
        "        H += 1\n",
        "\n",
        "      if row['First Story'] == 'Coffee':\n",
        "        C += 1\n",
        "\n",
        "      if row['First Gender'] == 'W':\n",
        "        W += 1\n",
        "\n",
        "      if row['First Gender'] == 'M':\n",
        "        M += 1\n",
        "\n",
        "      if row['First Story'] == 'Hike' and row['First Gender'] == 'W':\n",
        "        H_W += 1\n",
        "\n",
        "      elif row['First Story'] == 'Hike' and row['First Gender'] == 'M':\n",
        "        H_M += 1\n",
        "\n",
        "      elif row['First Story'] == 'Coffee' and row['First Gender'] == 'W':\n",
        "        C_W += 1\n",
        "\n",
        "      elif row['First Story'] == 'Coffee' and row['First Gender'] == 'M':\n",
        "        C_M += 1\n",
        "\n",
        "  print(f'First story Hike: {H}\\n First story Coffee: {C}\\n First Character Gender W: {W}\\n First Character Gender M: {M}\\n\\n',\n",
        "        f'First Hike and Woman: {H_W}\\n First Hike and Man: {H_M}\\n First Coffee and Woman: {C_W}\\n First Coffee and Man: {C_M}\\n')"
      ],
      "metadata": {
        "id": "WYQrDL8FTt_f"
      },
      "execution_count": 11,
      "outputs": []
    },
    {
      "cell_type": "code",
      "source": [
        "awesome_PIDs = check_treatments(qualtrics_clean, True)"
      ],
      "metadata": {
        "colab": {
          "base_uri": "https://localhost:8080/"
        },
        "id": "UjsnEALhUD69",
        "outputId": "243a5c64-742e-4673-b6d4-978e7ad0a26a"
      },
      "execution_count": 12,
      "outputs": [
        {
          "output_type": "stream",
          "name": "stdout",
          "text": [
            "First story Hike: 1744\n",
            " First story Coffee: 1745\n",
            " First Character Gender W: 1746\n",
            " First Character Gender M: 1743\n",
            "\n",
            " First Hike and Woman: 868\n",
            " First Hike and Man: 876\n",
            " First Coffee and Woman: 878\n",
            " First Coffee and Man: 867\n",
            "\n"
          ]
        }
      ]
    },
    {
      "cell_type": "markdown",
      "source": [
        "#### Approved are incomplete and incorrect?"
      ],
      "metadata": {
        "id": "JAZg_dJCLtrM"
      }
    },
    {
      "cell_type": "code",
      "source": [
        "def check_incomplete_incorrect(df, status):\n",
        "\n",
        "  for index, row in df.iterrows():\n",
        "\n",
        "    if row['Status'] == status:\n",
        "\n",
        "      if status == 'APPROVED' or status == 'AWAITING REVIEW':\n",
        "        if not complete(row):\n",
        "          print(status, 'but incomplete', row['PROLIFIC_PID'])\n",
        "\n",
        "        if not correct(row):\n",
        "          print(status, 'but incorrect', row['PROLIFIC_PID'])\n",
        "\n",
        "      elif status == 'RETURNED':\n",
        "        if complete(row) and correct(row):\n",
        "          print(status, 'but complete and correct', row['PROLIFIC_PID'])"
      ],
      "metadata": {
        "id": "iRYL7DO8EQmh"
      },
      "execution_count": 13,
      "outputs": []
    },
    {
      "cell_type": "code",
      "source": [
        "check_incomplete_incorrect(proqual_w, 'APPROVED')"
      ],
      "metadata": {
        "id": "yX4uEARrEg5N",
        "colab": {
          "base_uri": "https://localhost:8080/"
        },
        "outputId": "0324ed71-f643-4c6b-85df-6cc0ec50d32d"
      },
      "execution_count": 14,
      "outputs": [
        {
          "output_type": "stream",
          "name": "stdout",
          "text": [
            "APPROVED but incomplete 5c9623dd35599200175642e4\n",
            "APPROVED but incorrect 5c9623dd35599200175642e4\n",
            "APPROVED but incomplete 65e8cf8f4c7424fa062e54a3\n",
            "APPROVED but incorrect 65e8cf8f4c7424fa062e54a3\n"
          ]
        }
      ]
    },
    {
      "cell_type": "code",
      "source": [
        "check_incomplete_incorrect(proqual_m, 'APPROVED')"
      ],
      "metadata": {
        "colab": {
          "base_uri": "https://localhost:8080/"
        },
        "id": "000fvWvXE6D3",
        "outputId": "7d6d0e26-4bf8-45f5-8ddd-252138367789"
      },
      "execution_count": 15,
      "outputs": [
        {
          "output_type": "stream",
          "name": "stdout",
          "text": [
            "APPROVED but incomplete 5fd0ef1dbfdf0801f669f642\n",
            "APPROVED but incorrect 5fd0ef1dbfdf0801f669f642\n",
            "APPROVED but incomplete 643883e97bc73c8245bc31d3\n",
            "APPROVED but incorrect 643883e97bc73c8245bc31d3\n",
            "APPROVED but incomplete 663a8ea83cc4d5845ef3a672\n",
            "APPROVED but incorrect 663a8ea83cc4d5845ef3a672\n",
            "APPROVED but incomplete 572d05c688902e00091e4a2c\n",
            "APPROVED but incorrect 572d05c688902e00091e4a2c\n",
            "APPROVED but incomplete 59296fb2e8a7ff000163f033\n",
            "APPROVED but incorrect 59296fb2e8a7ff000163f033\n",
            "APPROVED but incomplete 63ecfea248ea89e9bb6b2a9a\n",
            "APPROVED but incorrect 63ecfea248ea89e9bb6b2a9a\n",
            "APPROVED but incomplete 6361b032a20001fc86b0ff1b\n",
            "APPROVED but incorrect 6361b032a20001fc86b0ff1b\n",
            "APPROVED but incomplete 616f727b03e888e0f8213eec\n",
            "APPROVED but incorrect 616f727b03e888e0f8213eec\n",
            "APPROVED but incomplete 591d369e88bbb500013a8517\n",
            "APPROVED but incorrect 591d369e88bbb500013a8517\n",
            "APPROVED but incomplete 5ca8ffbec942ab0016cfe9d2\n",
            "APPROVED but incorrect 5ca8ffbec942ab0016cfe9d2\n",
            "APPROVED but incomplete 662caff5542404739fbbb92a\n"
          ]
        }
      ]
    },
    {
      "cell_type": "markdown",
      "source": [
        "#### Awaiting review is incomplete or incorrect?"
      ],
      "metadata": {
        "id": "9R_hkGloO1zf"
      }
    },
    {
      "cell_type": "code",
      "source": [
        "check_incomplete_incorrect(proqual_w, 'AWAITING REVIEW')"
      ],
      "metadata": {
        "id": "UJ2a3OLPE9BK"
      },
      "execution_count": 16,
      "outputs": []
    },
    {
      "cell_type": "code",
      "source": [
        "check_incomplete_incorrect(proqual_m, 'AWAITING REVIEW')"
      ],
      "metadata": {
        "id": "uGGCdbLuFBdU"
      },
      "execution_count": 17,
      "outputs": []
    },
    {
      "cell_type": "markdown",
      "source": [
        "#### Returned responses but complete and correct?"
      ],
      "metadata": {
        "id": "sczPmu5GPuR_"
      }
    },
    {
      "cell_type": "code",
      "source": [
        "def check_complete_correct(df):\n",
        "\n",
        "  for index, row in df.iterrows():\n",
        "\n",
        "    if row['Status'] == 'RETURNED' and complete(row) and correct(row):\n",
        "\n",
        "      print('Returned but complete and correct', row['PROLIFIC_PID'])"
      ],
      "metadata": {
        "id": "4bFljJAdFGN-"
      },
      "execution_count": 18,
      "outputs": []
    },
    {
      "cell_type": "code",
      "source": [
        "check_complete_correct(proqual_w)"
      ],
      "metadata": {
        "id": "ef3pz8lKFUPX",
        "colab": {
          "base_uri": "https://localhost:8080/"
        },
        "outputId": "664bf1c7-f80e-4655-c5a9-79c90d87f8d9"
      },
      "execution_count": 19,
      "outputs": [
        {
          "output_type": "stream",
          "name": "stdout",
          "text": [
            "Returned but complete and correct 663287eff8f3dda45d8a2125\n"
          ]
        }
      ]
    },
    {
      "cell_type": "code",
      "source": [
        "check_complete_correct(proqual_m)"
      ],
      "metadata": {
        "id": "UpqoSfT_FW49"
      },
      "execution_count": 20,
      "outputs": []
    },
    {
      "cell_type": "markdown",
      "source": [
        "#### Approved but missing"
      ],
      "metadata": {
        "id": "Mk8fHdqFP0_9"
      }
    },
    {
      "cell_type": "code",
      "source": [
        "approved_pids_w = prolific_w[prolific_w['Status'] == 'APPROVED'][['Participant id']].values\n",
        "len(approved_pids_w)"
      ],
      "metadata": {
        "id": "7FBwPrQJVPOH",
        "colab": {
          "base_uri": "https://localhost:8080/"
        },
        "outputId": "9a033588-fb91-429e-c88a-bee166cc75d3"
      },
      "execution_count": 21,
      "outputs": [
        {
          "output_type": "execute_result",
          "data": {
            "text/plain": [
              "1497"
            ]
          },
          "metadata": {},
          "execution_count": 21
        }
      ]
    },
    {
      "cell_type": "code",
      "source": [
        "approved_pids_m = prolific_m[prolific_m['Status'] == 'APPROVED'][['Participant id']].values\n",
        "len(approved_pids_m)"
      ],
      "metadata": {
        "id": "TT9MZEb5UiBN",
        "colab": {
          "base_uri": "https://localhost:8080/"
        },
        "outputId": "e9bbf860-3401-4d93-bc09-b66d46880ec6"
      },
      "execution_count": 22,
      "outputs": [
        {
          "output_type": "execute_result",
          "data": {
            "text/plain": [
              "1495"
            ]
          },
          "metadata": {},
          "execution_count": 22
        }
      ]
    },
    {
      "cell_type": "code",
      "source": [
        "awesome_pids = []\n",
        "awesome_valid_pids = []\n",
        "awesome_pids_W = []\n",
        "awesome_pids_M = []\n",
        "awesome_pids_O = []\n",
        "\n",
        "for index, row in qualtrics_clean.iterrows():\n",
        "\n",
        "  if recent(row) and complete(row) and correct(row):\n",
        "    awesome_pids.append(row['PROLIFIC_PID'])\n",
        "\n",
        "    if row['gender'] == 'Woman':\n",
        "      awesome_pids_W.append(row['PROLIFIC_PID'])\n",
        "      awesome_valid_pids.append(row['PROLIFIC_PID'])\n",
        "    elif row['gender'] == 'Man':\n",
        "      awesome_pids_M.append(row['PROLIFIC_PID'])\n",
        "      awesome_valid_pids.append(row['PROLIFIC_PID'])\n",
        "    else:\n",
        "      awesome_pids_O.append(row['PROLIFIC_PID'])\n",
        "\n",
        "print(len(awesome_pids), len(awesome_valid_pids), len(awesome_pids_W), len(awesome_pids_M), len(awesome_pids_O))\n",
        "len(set(awesome_pids))"
      ],
      "metadata": {
        "colab": {
          "base_uri": "https://localhost:8080/"
        },
        "id": "NgSZkGiGVLmH",
        "outputId": "5eeeb2b1-b4fb-458c-f9a0-04c09a25e7ef"
      },
      "execution_count": 23,
      "outputs": [
        {
          "output_type": "stream",
          "name": "stdout",
          "text": [
            "3002 2985 1493 1492 17\n"
          ]
        },
        {
          "output_type": "execute_result",
          "data": {
            "text/plain": [
              "3002"
            ]
          },
          "metadata": {},
          "execution_count": 23
        }
      ]
    },
    {
      "cell_type": "code",
      "source": [
        "# How many approved are missing W\n",
        "missing_w = np.setdiff1d(np.array(approved_pids_w), np.array(awesome_pids))\n",
        "len(missing_w), missing_w"
      ],
      "metadata": {
        "colab": {
          "base_uri": "https://localhost:8080/"
        },
        "id": "iA3krPiJx3VP",
        "outputId": "c939ffb2-f3cd-483f-e2a6-06efcdb2e0c7"
      },
      "execution_count": 24,
      "outputs": [
        {
          "output_type": "execute_result",
          "data": {
            "text/plain": [
              "(1, array(['60e2577f8c52db9d1fb5ffac'], dtype=object))"
            ]
          },
          "metadata": {},
          "execution_count": 24
        }
      ]
    },
    {
      "cell_type": "code",
      "source": [
        "# How many approved are missing M\n",
        "missing_m = np.setdiff1d(np.array(approved_pids_m), np.array(awesome_pids))\n",
        "len(missing_m), missing_m"
      ],
      "metadata": {
        "colab": {
          "base_uri": "https://localhost:8080/"
        },
        "id": "0onfPwOszOig",
        "outputId": "6c751c9b-19bf-48f5-9392-81e82202627f"
      },
      "execution_count": 25,
      "outputs": [
        {
          "output_type": "execute_result",
          "data": {
            "text/plain": [
              "(11,\n",
              " array(['6135752aa4ee5158b0708670', '616f727b03e888e0f8213eec',\n",
              "        '64050cfd151bc9945fd3eac9', '6406d015ad2a96ceef1f86cc',\n",
              "        '643883e97bc73c8245bc31d3', '6464b45cf8e8a0f06fe011b9',\n",
              "        '657d9d56eb56655941d8483f', '6603d47c436bc4cbabc108bc',\n",
              "        '661017f723983f48d9f730e1', '661565a9e2816f002d25ea56',\n",
              "        '662caff5542404739fbbb92a'], dtype=object))"
            ]
          },
          "metadata": {},
          "execution_count": 25
        }
      ]
    },
    {
      "cell_type": "markdown",
      "source": [
        "#### Awesome but not approved"
      ],
      "metadata": {
        "id": "0vdHhPAnjGdz"
      }
    },
    {
      "cell_type": "code",
      "source": [
        "prolific_w2 = pd.read_csv(os.path.join(data_dir, 'prolific_export_women2.csv'))[['Participant id', 'Status', 'Started at']]\n",
        "print(len(prolific_w2))\n",
        "approved_pids_w2 = prolific_w2[prolific_w2['Status'] == 'APPROVED'][['Participant id']].values\n",
        "len(approved_pids_w2)"
      ],
      "metadata": {
        "colab": {
          "base_uri": "https://localhost:8080/"
        },
        "id": "hZ3eIvQvk9x_",
        "outputId": "3effe18e-4608-4514-f571-550d913aebd7"
      },
      "execution_count": 26,
      "outputs": [
        {
          "output_type": "stream",
          "name": "stdout",
          "text": [
            "5\n"
          ]
        },
        {
          "output_type": "execute_result",
          "data": {
            "text/plain": [
              "5"
            ]
          },
          "metadata": {},
          "execution_count": 26
        }
      ]
    },
    {
      "cell_type": "code",
      "source": [
        "prolific_m2 = pd.read_csv(os.path.join(data_dir, 'prolific_export_men2.csv'))[['Participant id', 'Status', 'Started at']]\n",
        "print(len(prolific_m2))\n",
        "approved_pids_m2 = prolific_m2[prolific_m2['Status'] == 'APPROVED'][['Participant id']].values\n",
        "len(approved_pids_m2)"
      ],
      "metadata": {
        "colab": {
          "base_uri": "https://localhost:8080/"
        },
        "id": "rIkEpWu2lREH",
        "outputId": "439412bb-b7ff-4dec-b9f7-4464b807cd5b"
      },
      "execution_count": 27,
      "outputs": [
        {
          "output_type": "stream",
          "name": "stdout",
          "text": [
            "18\n"
          ]
        },
        {
          "output_type": "execute_result",
          "data": {
            "text/plain": [
              "16"
            ]
          },
          "metadata": {},
          "execution_count": 27
        }
      ]
    },
    {
      "cell_type": "code",
      "source": [
        "approved_all_w = np.append(approved_pids_w, approved_pids_w2)\n",
        "approved_all_m = np.append(approved_pids_m, approved_pids_m2)\n",
        "approved_all = np.append(approved_all_w, approved_all_m)"
      ],
      "metadata": {
        "id": "hTEfYN9rn8YV"
      },
      "execution_count": 28,
      "outputs": []
    },
    {
      "cell_type": "code",
      "source": [
        "np.setdiff1d(np.array(awesome_pids), approved_all)"
      ],
      "metadata": {
        "colab": {
          "base_uri": "https://localhost:8080/"
        },
        "id": "D9yYd7f6U2Qc",
        "outputId": "02c74e88-8a89-4751-dee4-1ea6ee565839"
      },
      "execution_count": 29,
      "outputs": [
        {
          "output_type": "execute_result",
          "data": {
            "text/plain": [
              "array(['663287eff8f3dda45d8a2125'], dtype='<U24')"
            ]
          },
          "metadata": {},
          "execution_count": 29
        }
      ]
    },
    {
      "cell_type": "markdown",
      "source": [
        "## Check unfinished submissions"
      ],
      "metadata": {
        "id": "m33YRMD3C4y9"
      }
    },
    {
      "cell_type": "code",
      "source": [
        "unfinished_clean = pd.read_csv(os.path.join(data_dir, 'char_gender_unfinished.csv'), header=1).iloc[1:].rename(columns={'Recorded Date': 'date',\n",
        "                                            'If you agree to these conditions, please click \"I consent to participate\" below. If you do not agree, click the “I do not consent to participate” option.\\n\\nBy agreeing to participate, you confirm that you are over 18 years of age.\\n\\n \\n\\nI have read the above information.':'consent',\n",
        "                                            'Your gender - Selected Choice':'gender',\n",
        "                                            'Suppose you had both novels in your hand. Which one would you continue reading?': 'chosen_story'})\n",
        "len(unfinished_clean)"
      ],
      "metadata": {
        "colab": {
          "base_uri": "https://localhost:8080/"
        },
        "id": "Y01BwQOSC4b0",
        "outputId": "d28c7e81-0897-4558-87e4-30bbf53a968c"
      },
      "execution_count": 33,
      "outputs": [
        {
          "output_type": "execute_result",
          "data": {
            "text/plain": [
              "156"
            ]
          },
          "metadata": {},
          "execution_count": 33
        }
      ]
    },
    {
      "cell_type": "code",
      "source": [
        "unfinished_pids = unfinished_clean.PROLIFIC_PID.unique()"
      ],
      "metadata": {
        "id": "xl5Ra5cdG6XN"
      },
      "execution_count": 34,
      "outputs": []
    },
    {
      "cell_type": "code",
      "source": [
        "len(np.intersect1d(np.array(proqual_w['PROLIFIC_PID']), np.array(unfinished_pids)))"
      ],
      "metadata": {
        "colab": {
          "base_uri": "https://localhost:8080/"
        },
        "id": "zlZ4qsleDzsa",
        "outputId": "8928acd4-d74b-4a62-d769-f2cb32fb4f3a"
      },
      "execution_count": 46,
      "outputs": [
        {
          "output_type": "execute_result",
          "data": {
            "text/plain": [
              "59"
            ]
          },
          "metadata": {},
          "execution_count": 46
        }
      ]
    },
    {
      "cell_type": "code",
      "source": [
        "len(np.intersect1d(np.array(proqual_m['PROLIFIC_PID']), np.array(unfinished_pids)))"
      ],
      "metadata": {
        "colab": {
          "base_uri": "https://localhost:8080/"
        },
        "id": "x6hCgC8CD2Ja",
        "outputId": "fe51342b-d770-489c-87f5-fb619d784d19"
      },
      "execution_count": 47,
      "outputs": [
        {
          "output_type": "execute_result",
          "data": {
            "text/plain": [
              "97"
            ]
          },
          "metadata": {},
          "execution_count": 47
        }
      ]
    },
    {
      "cell_type": "code",
      "source": [
        "len(np.intersect1d(np.array(proqual_w[proqual_w['Status'] == 'APPROVED']['PROLIFIC_PID']), np.array(unfinished_pids)))"
      ],
      "metadata": {
        "colab": {
          "base_uri": "https://localhost:8080/"
        },
        "id": "5GY5pACDEmmZ",
        "outputId": "4adc781c-bcbf-44d3-f8fc-8ea2a3acf12a"
      },
      "execution_count": 49,
      "outputs": [
        {
          "output_type": "execute_result",
          "data": {
            "text/plain": [
              "2"
            ]
          },
          "metadata": {},
          "execution_count": 49
        }
      ]
    },
    {
      "cell_type": "code",
      "source": [
        "len(np.intersect1d(np.array(proqual_m[proqual_m['Status'] == 'APPROVED']['PROLIFIC_PID']), np.array(unfinished_pids)))"
      ],
      "metadata": {
        "id": "vuQ34x-cEgoz",
        "colab": {
          "base_uri": "https://localhost:8080/"
        },
        "outputId": "76fac9a2-742b-4f6e-f47d-09d918e23874"
      },
      "execution_count": 52,
      "outputs": [
        {
          "output_type": "execute_result",
          "data": {
            "text/plain": [
              "10"
            ]
          },
          "metadata": {},
          "execution_count": 52
        }
      ]
    }
  ]
}